{
 "cells": [
  {
   "cell_type": "raw",
   "metadata": {},
   "source": [
    "---\n",
    "output-file: load_model_from_wandb.html\n",
    "title: Load model from Weights & Biases (wandb)\n",
    "\n",
    "---\n",
    "\n"
   ]
  },
  {
   "cell_type": "code",
   "execution_count": null,
   "metadata": {},
   "outputs": [],
   "source": [
    "#| include: false\n",
    "from nbdev.showdoc import *"
   ]
  },
  {
   "cell_type": "markdown",
   "metadata": {},
   "source": [
    "This tutorial is for people who are using [Weights & Biases (wandb)](https://wandb.ai/site) `WandbCallback` in their training pipeline and are looking for a convenient way to use saved models on W&B cloud to make predictions, evaluate and submit in a few lines of code.\n",
    "\n",
    "Currently only Keras models (`.h5`) are supported for wandb loading in this framework. Future versions will include other formats like PyTorch support."
   ]
  },
  {
   "cell_type": "markdown",
   "metadata": {},
   "source": [
    "---------------------------------------------------------------------\n",
    "## 0. Authentication\n",
    "\n",
    "To authenticate your W&B account you are given several options:\n",
    "1. Run `wandb login` in terminal and follow instructions.\n",
    "2. Configure global environment variable `'WANDB_API_KEY'`.\n",
    "3. Run `wandb.init(project=PROJECT_NAME, entity=ENTITY_NAME)` and pass API key from [https://wandb.ai/authorize](https://wandb.ai/authorize)"
   ]
  },
  {
   "cell_type": "markdown",
   "metadata": {},
   "source": [
    "-----------------------------------------------------\n",
    "## 1. Download validation data\n",
    "\n",
    "The first thing we do is download the current validation data and example predictions to evaluate against. This can be done in a few lines of code with `NumeraiClassicDownloader`."
   ]
  },
  {
   "cell_type": "code",
   "execution_count": null,
   "metadata": {},
   "outputs": [],
   "source": [
    "#| other\n",
    "import pandas as pd\n",
    "\n",
    "from numerblox.download import NumeraiClassicDownloader\n",
    "from numerblox.numerframe import create_numerframe\n",
    "from numerblox.model import WandbKerasModel\n",
    "from numerblox.evaluation import NumeraiClassicEvaluator"
   ]
  },
  {
   "cell_type": "code",
   "execution_count": null,
   "metadata": {},
   "outputs": [
    {
     "data": {
      "text/html": [
       "<pre style=\"white-space:pre;overflow-x:auto;line-height:normal;font-family:Menlo,'DejaVu Sans Mono',consolas,'Courier New',monospace\">📁 <span style=\"color: #008000; text-decoration-color: #008000\">Downloading</span> <span style=\"color: #008000; text-decoration-color: #008000\">'v4.1/validation.parquet'</span> 📁\n",
       "</pre>\n"
      ],
      "text/plain": [
       "📁 \u001b[32mDownloading\u001b[0m \u001b[32m'v4.1/validation.parquet'\u001b[0m 📁\n"
      ]
     },
     "metadata": {},
     "output_type": "display_data"
    },
    {
     "name": "stderr",
     "output_type": "stream",
     "text": [
      "2023-01-04 20:20:28,273 INFO numerapi.utils: target file already exists\n",
      "2023-01-04 20:20:28,274 INFO numerapi.utils: download complete\n"
     ]
    },
    {
     "data": {
      "text/html": [
       "<pre style=\"white-space:pre;overflow-x:auto;line-height:normal;font-family:Menlo,'DejaVu Sans Mono',consolas,'Courier New',monospace\">📁 <span style=\"color: #008000; text-decoration-color: #008000\">Downloading</span> <span style=\"color: #008000; text-decoration-color: #008000\">'v4.1/live_example_preds.parquet'</span> 📁\n",
       "</pre>\n"
      ],
      "text/plain": [
       "📁 \u001b[32mDownloading\u001b[0m \u001b[32m'v4.1/live_example_preds.parquet'\u001b[0m 📁\n"
      ]
     },
     "metadata": {},
     "output_type": "display_data"
    },
    {
     "name": "stderr",
     "output_type": "stream",
     "text": [
      "2023-01-04 20:20:28,917 INFO numerapi.utils: target file already exists\n",
      "2023-01-04 20:20:28,918 INFO numerapi.utils: download complete\n"
     ]
    },
    {
     "data": {
      "text/html": [
       "<pre style=\"white-space:pre;overflow-x:auto;line-height:normal;font-family:Menlo,'DejaVu Sans Mono',consolas,'Courier New',monospace\">📁 <span style=\"color: #008000; text-decoration-color: #008000\">Downloading</span> <span style=\"color: #008000; text-decoration-color: #008000\">'v4.1/validation_example_preds.parquet'</span> 📁\n",
       "</pre>\n"
      ],
      "text/plain": [
       "📁 \u001b[32mDownloading\u001b[0m \u001b[32m'v4.1/validation_example_preds.parquet'\u001b[0m 📁\n"
      ]
     },
     "metadata": {},
     "output_type": "display_data"
    },
    {
     "name": "stderr",
     "output_type": "stream",
     "text": [
      "2023-01-04 20:20:29,554 INFO numerapi.utils: target file already exists\n",
      "2023-01-04 20:20:29,555 INFO numerapi.utils: download complete\n"
     ]
    }
   ],
   "source": [
    "#| other\n",
    "downloader = NumeraiClassicDownloader(\"wandb_keras_test\")\n",
    "# Path variables\n",
    "val_file = \"v4.1/validation.parquet\"\n",
    "val_save_path = f\"{str(downloader.dir)}/{val_file}\"\n",
    "# Download only validation parquet file\n",
    "downloader.download_single_dataset(val_file,\n",
    "                                   dest_path=val_save_path)\n",
    "# Download example val preds\n",
    "downloader.download_example_data()\n",
    "\n",
    "# Initialize NumerFrame from parquet file path\n",
    "dataf = create_numerframe(val_save_path)\n",
    "\n",
    "# Add example preds to NumerFrame\n",
    "example_preds = pd.read_parquet(\"wandb_keras_test/validation_example_preds.parquet\")\n",
    "dataf['prediction_example'] = example_preds.values"
   ]
  },
  {
   "cell_type": "markdown",
   "metadata": {},
   "source": [
    "--------------------------------------------------------------------\n",
    "## 2. Predict (WandbKerasModel)\n",
    "\n",
    "`WandbKerasModel` automatically downloads and loads in a `.h5` from a specified wandb run. The path for a run is specified in the [\"Overview\" tab](https://docs.wandb.ai/ref/app/pages/run-page#overview-tab) of the run.\n",
    "\n",
    "- `file_name`: The default name for the best model in a run is `model-best.h5`. If you want to use a model you have saved under a different name specify `file_name` for `WandbKerasModel` initialization.\n",
    "\n",
    "\n",
    "- `replace`: The model will be downloaded to the directory you are working in. You will be warned if this directory contains models with the same filename. If these models can be overwritten specify `replace=True`.\n",
    "\n",
    "\n",
    "- `combine_preds`: Setting this to True will average all columns in case you have trained a multi-target model.\n",
    "\n",
    "\n",
    "- `autoencoder_mlp:` This argument is for the case where your [model architecture includes an autoencoder](https://forum.numer.ai/t/autoencoder-and-multitask-mlp-on-new-dataset-from-kaggle-jane-street/4338) and therefore the output is a tuple of 3 tensors. `WandbKerasModel` will in this case take the third output of the tuple (target predictions).\n",
    "\n"
   ]
  },
  {
   "cell_type": "code",
   "execution_count": null,
   "metadata": {},
   "outputs": [
    {
     "data": {
      "text/html": [
       "<pre style=\"white-space:pre;overflow-x:auto;line-height:normal;font-family:Menlo,'DejaVu Sans Mono',consolas,'Courier New',monospace\">📄 <span style=\"color: #008000; text-decoration-color: #008000\"> Downloading </span><span style=\"color: #008000; text-decoration-color: #008000\">'model-best.h5'</span><span style=\"color: #008000; text-decoration-color: #008000\"> from </span><span style=\"color: #008000; text-decoration-color: #008000\">'crowdcent/cc-numerai-classic/h4pwuxwu'</span><span style=\"color: #008000; text-decoration-color: #008000\"> in W&amp;B Cloud. </span> 📄\n",
       "</pre>\n"
      ],
      "text/plain": [
       "📄 \u001b[32m Downloading \u001b[0m\u001b[32m'model-best.h5'\u001b[0m\u001b[32m from \u001b[0m\u001b[32m'crowdcent/cc-numerai-classic/h4pwuxwu'\u001b[0m\u001b[32m in W&B Cloud. \u001b[0m 📄\n"
      ]
     },
     "metadata": {},
     "output_type": "display_data"
    }
   ],
   "source": [
    "#| other\n",
    "run_path = \"crowdcent/cc-numerai-classic/h4pwuxwu\"\n",
    "model = WandbKerasModel(run_path=run_path,\n",
    "                        replace=True, combine_preds=True, autoencoder_mlp=True)"
   ]
  },
  {
   "cell_type": "markdown",
   "metadata": {},
   "source": [
    "After initialization you can generate predictions with one line. `.predict` takes a `NumerFrame` as input and outputs a `NumerFrame` with a new prediction column. The prediction column name will be of the format `prediction_{RUN_PATH}`."
   ]
  },
  {
   "cell_type": "code",
   "execution_count": null,
   "metadata": {},
   "outputs": [],
   "source": [
    "#| other\n",
    "# dataf = model.predict(dataf)\n",
    "# dataf.prediction_cols"
   ]
  },
  {
   "cell_type": "code",
   "execution_count": null,
   "metadata": {},
   "outputs": [
    {
     "data": {
      "text/plain": [
       "'prediction_crowdcent/cc-numerai-classic/h4pwuxwu'"
      ]
     },
     "execution_count": null,
     "metadata": {},
     "output_type": "execute_result"
    }
   ],
   "source": [
    "#| other\n",
    "main_pred_col = f\"prediction_{run_path}\"\n",
    "main_pred_col"
   ]
  },
  {
   "cell_type": "markdown",
   "metadata": {},
   "source": [
    "After we are done, downloaded files can be removed with one call on `NumeraiClassicDownloader` (optional)."
   ]
  },
  {
   "cell_type": "code",
   "execution_count": null,
   "metadata": {},
   "outputs": [
    {
     "data": {
      "text/html": [
       "<pre style=\"white-space:pre;overflow-x:auto;line-height:normal;font-family:Menlo,'DejaVu Sans Mono',consolas,'Courier New',monospace\">⚠ <span style=\"color: #800000; text-decoration-color: #800000\">Deleting directory for </span><span style=\"color: #800000; text-decoration-color: #800000\">'NumeraiClassicDownloader</span><span style=\"color: #008000; text-decoration-color: #008000\">'</span> ⚠\n",
       "Path: <span style=\"color: #008000; text-decoration-color: #008000\">'/home/clepelaars/numerblox/nbs/edu_nbs/wandb_keras_test'</span>\n",
       "</pre>\n"
      ],
      "text/plain": [
       "⚠ \u001b[31mDeleting directory for \u001b[0m\u001b[31m'NumeraiClassicDownloader\u001b[0m\u001b[32m'\u001b[0m ⚠\n",
       "Path: \u001b[32m'/home/clepelaars/numerblox/nbs/edu_nbs/wandb_keras_test'\u001b[0m\n"
      ]
     },
     "metadata": {},
     "output_type": "display_data"
    }
   ],
   "source": [
    "#| other\n",
    "# Clean up environment\n",
    "downloader.remove_base_directory()"
   ]
  },
  {
   "cell_type": "markdown",
   "metadata": {},
   "source": [
    "------------------------------------------------------------------\n",
    "We hope this tutorial explained clearly to you how to load and predict with Weights & Biases (wandb) models.\n",
    "\n",
    "Below you will find the full docs for `WandbKerasModel` and link to the source code:"
   ]
  },
  {
   "cell_type": "code",
   "execution_count": null,
   "metadata": {},
   "outputs": [
    {
     "data": {
      "text/markdown": [
       "---\n",
       "\n",
       "[source](https://github.com/crowdcent/numerblox/tree/master/blob/master/numerblox/model.py#LNone){target=\"_blank\" style=\"float:right; font-size:smaller\"}\n",
       "\n",
       "### WandbKerasModel\n",
       "\n",
       ">      WandbKerasModel (run_path:str, file_name:str='model-best.h5',\n",
       ">                       combine_preds=False, autoencoder_mlp=False,\n",
       ">                       replace=False, feature_cols:list=None)\n",
       "\n",
       "Download best .h5 model from Weights & Biases (W&B) run in local directory and make predictions.\n",
       "More info on W&B: https://wandb.ai/site\n",
       "\n",
       ":param run_path: W&B path structured as entity/project/run_id.\n",
       "Can be copied from the Overview tab of a W&B run.\n",
       "For more info: https://docs.wandb.ai/ref/app/pages/run-page#overview-tab \n",
       "\n",
       ":param file_name: Name of .h5 file as saved in W&B run.\n",
       "'model-best.h5' by default.\n",
       "File name can be found under files tab of W&B run. \n",
       "\n",
       ":param combine_preds: Whether to average predictions along column axis. Convenient when you want to predict the main target by averaging a multi-target model. \n",
       "\n",
       ":param autoencoder_mlp: Whether your model is an autoencoder + MLP model.\n",
       "Will take the 3rd of tuple output in this case. Only relevant for NN models. \n",
       "\n",
       "More info on autoencoders:\n",
       "https://forum.numer.ai/t/autoencoder-and-multitask-mlp-on-new-dataset-from-kaggle-jane-street/4338 \n",
       "\n",
       ":param replace: Replace any model files saved under the same file name with downloaded W&B run model. WARNING: Setting to True may overwrite models in your local environment. \n",
       "\n",
       ":param feature_cols: optional list of features to use for prediction. Selects all feature columns (i.e. column names with prefix 'feature') by default."
      ],
      "text/plain": [
       "---\n",
       "\n",
       "[source](https://github.com/crowdcent/numerblox/tree/master/blob/master/numerblox/model.py#LNone){target=\"_blank\" style=\"float:right; font-size:smaller\"}\n",
       "\n",
       "### WandbKerasModel\n",
       "\n",
       ">      WandbKerasModel (run_path:str, file_name:str='model-best.h5',\n",
       ">                       combine_preds=False, autoencoder_mlp=False,\n",
       ">                       replace=False, feature_cols:list=None)\n",
       "\n",
       "Download best .h5 model from Weights & Biases (W&B) run in local directory and make predictions.\n",
       "More info on W&B: https://wandb.ai/site\n",
       "\n",
       ":param run_path: W&B path structured as entity/project/run_id.\n",
       "Can be copied from the Overview tab of a W&B run.\n",
       "For more info: https://docs.wandb.ai/ref/app/pages/run-page#overview-tab \n",
       "\n",
       ":param file_name: Name of .h5 file as saved in W&B run.\n",
       "'model-best.h5' by default.\n",
       "File name can be found under files tab of W&B run. \n",
       "\n",
       ":param combine_preds: Whether to average predictions along column axis. Convenient when you want to predict the main target by averaging a multi-target model. \n",
       "\n",
       ":param autoencoder_mlp: Whether your model is an autoencoder + MLP model.\n",
       "Will take the 3rd of tuple output in this case. Only relevant for NN models. \n",
       "\n",
       "More info on autoencoders:\n",
       "https://forum.numer.ai/t/autoencoder-and-multitask-mlp-on-new-dataset-from-kaggle-jane-street/4338 \n",
       "\n",
       ":param replace: Replace any model files saved under the same file name with downloaded W&B run model. WARNING: Setting to True may overwrite models in your local environment. \n",
       "\n",
       ":param feature_cols: optional list of features to use for prediction. Selects all feature columns (i.e. column names with prefix 'feature') by default."
      ]
     },
     "execution_count": null,
     "metadata": {},
     "output_type": "execute_result"
    }
   ],
   "source": [
    "#| other\n",
    "#| echo: false\n",
    "show_doc(WandbKerasModel)"
   ]
  }
 ],
 "metadata": {
  "kernelspec": {
   "display_name": "python3",
   "language": "python",
   "name": "python3"
  }
 },
 "nbformat": 4,
 "nbformat_minor": 0
}
