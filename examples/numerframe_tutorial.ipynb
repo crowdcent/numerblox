{
 "cells": [
  {
   "cell_type": "markdown",
   "metadata": {},
   "source": [
    "This tutorial introduces core functionality of `NumerFrame` and how to build a custom TensorFlow DataGenerator using the `NumerFrame`. This application is a good example of how `NumerFrame` can make it easier to implement Numerai specific applications."
   ]
  },
  {
   "cell_type": "code",
   "execution_count": 1,
   "metadata": {},
   "outputs": [],
   "source": [
    "from numerblox.numerframe import create_numerframe, NumerFrame\n",
    "from numerblox.download import NumeraiClassicDownloader"
   ]
  },
  {
   "cell_type": "markdown",
   "metadata": {},
   "source": [
    "First, we download validation data using `NumeraiClassicDownloader`."
   ]
  },
  {
   "cell_type": "code",
   "execution_count": 2,
   "metadata": {},
   "outputs": [
    {
     "data": {
      "text/html": [
       "<pre style=\"white-space:pre;overflow-x:auto;line-height:normal;font-family:Menlo,'DejaVu Sans Mono',consolas,'Courier New',monospace\">📁 <span style=\"color: #008000; text-decoration-color: #008000\">Downloading</span> <span style=\"color: #008000; text-decoration-color: #008000\">'v4.2/live_int8.parquet'</span> 📁\n",
       "</pre>\n"
      ],
      "text/plain": [
       "📁 \u001b[32mDownloading\u001b[0m \u001b[32m'v4.2/live_int8.parquet'\u001b[0m 📁\n"
      ]
     },
     "metadata": {},
     "output_type": "display_data"
    },
    {
     "name": "stderr",
     "output_type": "stream",
     "text": [
      "2023-09-13 13:32:03,530 INFO numerapi.utils: target file already exists\n",
      "2023-09-13 13:32:03,532 INFO numerapi.utils: download complete\n"
     ]
    }
   ],
   "source": [
    "downloader = NumeraiClassicDownloader(\"numerframe_edu\")\n",
    "# Path variables\n",
    "live_file = \"v4.2/live_int8.parquet\"\n",
    "live_save_path = f\"{str(downloader.dir)}/{live_file}\"\n",
    "# Download only validation parquet file\n",
    "downloader.download_single_dataset(live_file,\n",
    "                                   dest_path=live_save_path)"
   ]
  },
  {
   "cell_type": "markdown",
   "metadata": {},
   "source": [
    "Loading in data and initializing a `NumerFrame` takes one line of code. It will automatically recognize the data format such as `.csv` or `.parquet`."
   ]
  },
  {
   "cell_type": "code",
   "execution_count": 3,
   "metadata": {},
   "outputs": [],
   "source": [
    "# Initialize NumerFrame from parquet file path\n",
    "dataf = create_numerframe(live_save_path)"
   ]
  },
  {
   "cell_type": "markdown",
   "metadata": {},
   "source": [
    "All features of Pandas DataFrames can still be used in a `NumerFrame`."
   ]
  },
  {
   "cell_type": "code",
   "execution_count": 4,
   "metadata": {},
   "outputs": [
    {
     "data": {
      "text/html": [
       "<div>\n",
       "<style scoped>\n",
       "    .dataframe tbody tr th:only-of-type {\n",
       "        vertical-align: middle;\n",
       "    }\n",
       "\n",
       "    .dataframe tbody tr th {\n",
       "        vertical-align: top;\n",
       "    }\n",
       "\n",
       "    .dataframe thead th {\n",
       "        text-align: right;\n",
       "    }\n",
       "</style>\n",
       "<table border=\"1\" class=\"dataframe\">\n",
       "  <thead>\n",
       "    <tr style=\"text-align: right;\">\n",
       "      <th></th>\n",
       "      <th>era</th>\n",
       "      <th>data_type</th>\n",
       "      <th>feature_honoured_observational_balaamite</th>\n",
       "      <th>feature_polaroid_vadose_quinze</th>\n",
       "      <th>feature_untidy_withdrawn_bargeman</th>\n",
       "      <th>feature_genuine_kyphotic_trehala</th>\n",
       "      <th>feature_unenthralled_sportful_schoolhouse</th>\n",
       "      <th>feature_divulsive_explanatory_ideologue</th>\n",
       "      <th>feature_ichthyotic_roofed_yeshiva</th>\n",
       "      <th>feature_waggly_outlandish_carbonisation</th>\n",
       "      <th>...</th>\n",
       "      <th>target_bravo_v4_20</th>\n",
       "      <th>target_bravo_v4_60</th>\n",
       "      <th>target_charlie_v4_20</th>\n",
       "      <th>target_charlie_v4_60</th>\n",
       "      <th>target_delta_v4_20</th>\n",
       "      <th>target_delta_v4_60</th>\n",
       "      <th>target_echo_v4_20</th>\n",
       "      <th>target_echo_v4_60</th>\n",
       "      <th>target_jeremy_v4_20</th>\n",
       "      <th>target_jeremy_v4_60</th>\n",
       "    </tr>\n",
       "    <tr>\n",
       "      <th>id</th>\n",
       "      <th></th>\n",
       "      <th></th>\n",
       "      <th></th>\n",
       "      <th></th>\n",
       "      <th></th>\n",
       "      <th></th>\n",
       "      <th></th>\n",
       "      <th></th>\n",
       "      <th></th>\n",
       "      <th></th>\n",
       "      <th></th>\n",
       "      <th></th>\n",
       "      <th></th>\n",
       "      <th></th>\n",
       "      <th></th>\n",
       "      <th></th>\n",
       "      <th></th>\n",
       "      <th></th>\n",
       "      <th></th>\n",
       "      <th></th>\n",
       "      <th></th>\n",
       "    </tr>\n",
       "  </thead>\n",
       "  <tbody>\n",
       "    <tr>\n",
       "      <th>n0005f1304ae2f69</th>\n",
       "      <td>X</td>\n",
       "      <td>live</td>\n",
       "      <td>3</td>\n",
       "      <td>4</td>\n",
       "      <td>0</td>\n",
       "      <td>4</td>\n",
       "      <td>3</td>\n",
       "      <td>2</td>\n",
       "      <td>3</td>\n",
       "      <td>0</td>\n",
       "      <td>...</td>\n",
       "      <td>NaN</td>\n",
       "      <td>NaN</td>\n",
       "      <td>NaN</td>\n",
       "      <td>NaN</td>\n",
       "      <td>NaN</td>\n",
       "      <td>NaN</td>\n",
       "      <td>NaN</td>\n",
       "      <td>NaN</td>\n",
       "      <td>NaN</td>\n",
       "      <td>NaN</td>\n",
       "    </tr>\n",
       "    <tr>\n",
       "      <th>n0006343014eb9bb</th>\n",
       "      <td>X</td>\n",
       "      <td>live</td>\n",
       "      <td>2</td>\n",
       "      <td>2</td>\n",
       "      <td>3</td>\n",
       "      <td>4</td>\n",
       "      <td>4</td>\n",
       "      <td>3</td>\n",
       "      <td>4</td>\n",
       "      <td>4</td>\n",
       "      <td>...</td>\n",
       "      <td>NaN</td>\n",
       "      <td>NaN</td>\n",
       "      <td>NaN</td>\n",
       "      <td>NaN</td>\n",
       "      <td>NaN</td>\n",
       "      <td>NaN</td>\n",
       "      <td>NaN</td>\n",
       "      <td>NaN</td>\n",
       "      <td>NaN</td>\n",
       "      <td>NaN</td>\n",
       "    </tr>\n",
       "  </tbody>\n",
       "</table>\n",
       "<p>2 rows × 2183 columns</p>\n",
       "</div>"
      ],
      "text/plain": [
       "                 era data_type  feature_honoured_observational_balaamite  \\\n",
       "id                                                                         \n",
       "n0005f1304ae2f69   X      live                                         3   \n",
       "n0006343014eb9bb   X      live                                         2   \n",
       "\n",
       "                  feature_polaroid_vadose_quinze  \\\n",
       "id                                                 \n",
       "n0005f1304ae2f69                               4   \n",
       "n0006343014eb9bb                               2   \n",
       "\n",
       "                  feature_untidy_withdrawn_bargeman  \\\n",
       "id                                                    \n",
       "n0005f1304ae2f69                                  0   \n",
       "n0006343014eb9bb                                  3   \n",
       "\n",
       "                  feature_genuine_kyphotic_trehala  \\\n",
       "id                                                   \n",
       "n0005f1304ae2f69                                 4   \n",
       "n0006343014eb9bb                                 4   \n",
       "\n",
       "                  feature_unenthralled_sportful_schoolhouse  \\\n",
       "id                                                            \n",
       "n0005f1304ae2f69                                          3   \n",
       "n0006343014eb9bb                                          4   \n",
       "\n",
       "                  feature_divulsive_explanatory_ideologue  \\\n",
       "id                                                          \n",
       "n0005f1304ae2f69                                        2   \n",
       "n0006343014eb9bb                                        3   \n",
       "\n",
       "                  feature_ichthyotic_roofed_yeshiva  \\\n",
       "id                                                    \n",
       "n0005f1304ae2f69                                  3   \n",
       "n0006343014eb9bb                                  4   \n",
       "\n",
       "                  feature_waggly_outlandish_carbonisation  ...  \\\n",
       "id                                                         ...   \n",
       "n0005f1304ae2f69                                        0  ...   \n",
       "n0006343014eb9bb                                        4  ...   \n",
       "\n",
       "                  target_bravo_v4_20  target_bravo_v4_60  \\\n",
       "id                                                         \n",
       "n0005f1304ae2f69                 NaN                 NaN   \n",
       "n0006343014eb9bb                 NaN                 NaN   \n",
       "\n",
       "                  target_charlie_v4_20  target_charlie_v4_60  \\\n",
       "id                                                             \n",
       "n0005f1304ae2f69                   NaN                   NaN   \n",
       "n0006343014eb9bb                   NaN                   NaN   \n",
       "\n",
       "                  target_delta_v4_20  target_delta_v4_60  target_echo_v4_20  \\\n",
       "id                                                                            \n",
       "n0005f1304ae2f69                 NaN                 NaN                NaN   \n",
       "n0006343014eb9bb                 NaN                 NaN                NaN   \n",
       "\n",
       "                  target_echo_v4_60  target_jeremy_v4_20  target_jeremy_v4_60  \n",
       "id                                                                             \n",
       "n0005f1304ae2f69                NaN                  NaN                  NaN  \n",
       "n0006343014eb9bb                NaN                  NaN                  NaN  \n",
       "\n",
       "[2 rows x 2183 columns]"
      ]
     },
     "execution_count": 4,
     "metadata": {},
     "output_type": "execute_result"
    }
   ],
   "source": [
    "dataf.head(2)"
   ]
  },
  {
   "cell_type": "markdown",
   "metadata": {},
   "source": [
    "NumerFrame extends the Pandas DataFrame with convenient features for working with Numerai data.\n",
    "\n",
    "For example, the `NumerFrame` groups columns and makes use of the fact that, for Numerai data, all feature column names start with `'feature'`, target columns start with `'target'`, etc. It also keeps track of the era column and parses it automatically for other parts of this library (`'era'` for Numerai Classic and `'date'` for Numerai Signals)."
   ]
  },
  {
   "cell_type": "code",
   "execution_count": 5,
   "metadata": {},
   "outputs": [
    {
     "data": {
      "text/plain": [
       "'target_jeremy_v4_60'"
      ]
     },
     "execution_count": 5,
     "metadata": {},
     "output_type": "execute_result"
    }
   ],
   "source": [
    "dataf.target_cols[-1]"
   ]
  },
  {
   "cell_type": "code",
   "execution_count": 6,
   "metadata": {},
   "outputs": [
    {
     "data": {
      "text/html": [
       "<div>\n",
       "<style scoped>\n",
       "    .dataframe tbody tr th:only-of-type {\n",
       "        vertical-align: middle;\n",
       "    }\n",
       "\n",
       "    .dataframe tbody tr th {\n",
       "        vertical-align: top;\n",
       "    }\n",
       "\n",
       "    .dataframe thead th {\n",
       "        text-align: right;\n",
       "    }\n",
       "</style>\n",
       "<table border=\"1\" class=\"dataframe\">\n",
       "  <thead>\n",
       "    <tr style=\"text-align: right;\">\n",
       "      <th></th>\n",
       "      <th>target</th>\n",
       "    </tr>\n",
       "    <tr>\n",
       "      <th>id</th>\n",
       "      <th></th>\n",
       "    </tr>\n",
       "  </thead>\n",
       "  <tbody>\n",
       "    <tr>\n",
       "      <th>n0005f1304ae2f69</th>\n",
       "      <td>NaN</td>\n",
       "    </tr>\n",
       "    <tr>\n",
       "      <th>n0006343014eb9bb</th>\n",
       "      <td>NaN</td>\n",
       "    </tr>\n",
       "  </tbody>\n",
       "</table>\n",
       "</div>"
      ],
      "text/plain": [
       "                  target\n",
       "id                      \n",
       "n0005f1304ae2f69     NaN\n",
       "n0006343014eb9bb     NaN"
      ]
     },
     "execution_count": 6,
     "metadata": {},
     "output_type": "execute_result"
    }
   ],
   "source": [
    "dataf.get_single_target_data.head(2)"
   ]
  },
  {
   "cell_type": "code",
   "execution_count": 7,
   "metadata": {},
   "outputs": [
    {
     "data": {
      "text/plain": [
       "'feature_honoured_observational_balaamite'"
      ]
     },
     "execution_count": 7,
     "metadata": {},
     "output_type": "execute_result"
    }
   ],
   "source": [
    "dataf.feature_cols[0]"
   ]
  },
  {
   "cell_type": "code",
   "execution_count": 8,
   "metadata": {},
   "outputs": [
    {
     "data": {
      "text/html": [
       "<div>\n",
       "<style scoped>\n",
       "    .dataframe tbody tr th:only-of-type {\n",
       "        vertical-align: middle;\n",
       "    }\n",
       "\n",
       "    .dataframe tbody tr th {\n",
       "        vertical-align: top;\n",
       "    }\n",
       "\n",
       "    .dataframe thead th {\n",
       "        text-align: right;\n",
       "    }\n",
       "</style>\n",
       "<table border=\"1\" class=\"dataframe\">\n",
       "  <thead>\n",
       "    <tr style=\"text-align: right;\">\n",
       "      <th></th>\n",
       "      <th>feature_honoured_observational_balaamite</th>\n",
       "      <th>feature_polaroid_vadose_quinze</th>\n",
       "      <th>feature_untidy_withdrawn_bargeman</th>\n",
       "      <th>feature_genuine_kyphotic_trehala</th>\n",
       "      <th>feature_unenthralled_sportful_schoolhouse</th>\n",
       "      <th>feature_divulsive_explanatory_ideologue</th>\n",
       "      <th>feature_ichthyotic_roofed_yeshiva</th>\n",
       "      <th>feature_waggly_outlandish_carbonisation</th>\n",
       "      <th>feature_floriated_amish_sprite</th>\n",
       "      <th>feature_iconoclastic_parietal_agonist</th>\n",
       "      <th>...</th>\n",
       "      <th>feature_disclosed_mnemonic_ineffaceability</th>\n",
       "      <th>feature_suspended_intracranial_fischer</th>\n",
       "      <th>feature_shimmering_coverable_congolese</th>\n",
       "      <th>feature_biserial_fulfilled_harpoon</th>\n",
       "      <th>feature_pitiable_authoritative_clangor</th>\n",
       "      <th>feature_abdominal_subtriplicate_fin</th>\n",
       "      <th>feature_centenarian_ileac_caschrom</th>\n",
       "      <th>feature_expected_beatified_coparcenary</th>\n",
       "      <th>feature_unread_isopodan_ethic</th>\n",
       "      <th>feature_china_fistular_phenylketonuria</th>\n",
       "    </tr>\n",
       "    <tr>\n",
       "      <th>id</th>\n",
       "      <th></th>\n",
       "      <th></th>\n",
       "      <th></th>\n",
       "      <th></th>\n",
       "      <th></th>\n",
       "      <th></th>\n",
       "      <th></th>\n",
       "      <th></th>\n",
       "      <th></th>\n",
       "      <th></th>\n",
       "      <th></th>\n",
       "      <th></th>\n",
       "      <th></th>\n",
       "      <th></th>\n",
       "      <th></th>\n",
       "      <th></th>\n",
       "      <th></th>\n",
       "      <th></th>\n",
       "      <th></th>\n",
       "      <th></th>\n",
       "      <th></th>\n",
       "    </tr>\n",
       "  </thead>\n",
       "  <tbody>\n",
       "    <tr>\n",
       "      <th>n0005f1304ae2f69</th>\n",
       "      <td>3</td>\n",
       "      <td>4</td>\n",
       "      <td>0</td>\n",
       "      <td>4</td>\n",
       "      <td>3</td>\n",
       "      <td>2</td>\n",
       "      <td>3</td>\n",
       "      <td>0</td>\n",
       "      <td>2</td>\n",
       "      <td>4</td>\n",
       "      <td>...</td>\n",
       "      <td>1</td>\n",
       "      <td>0</td>\n",
       "      <td>1</td>\n",
       "      <td>0</td>\n",
       "      <td>0</td>\n",
       "      <td>0</td>\n",
       "      <td>4</td>\n",
       "      <td>1</td>\n",
       "      <td>2</td>\n",
       "      <td>0</td>\n",
       "    </tr>\n",
       "    <tr>\n",
       "      <th>n0006343014eb9bb</th>\n",
       "      <td>2</td>\n",
       "      <td>2</td>\n",
       "      <td>3</td>\n",
       "      <td>4</td>\n",
       "      <td>4</td>\n",
       "      <td>3</td>\n",
       "      <td>4</td>\n",
       "      <td>4</td>\n",
       "      <td>2</td>\n",
       "      <td>3</td>\n",
       "      <td>...</td>\n",
       "      <td>3</td>\n",
       "      <td>1</td>\n",
       "      <td>4</td>\n",
       "      <td>3</td>\n",
       "      <td>0</td>\n",
       "      <td>0</td>\n",
       "      <td>2</td>\n",
       "      <td>1</td>\n",
       "      <td>2</td>\n",
       "      <td>1</td>\n",
       "    </tr>\n",
       "  </tbody>\n",
       "</table>\n",
       "<p>2 rows × 2132 columns</p>\n",
       "</div>"
      ],
      "text/plain": [
       "                  feature_honoured_observational_balaamite  \\\n",
       "id                                                           \n",
       "n0005f1304ae2f69                                         3   \n",
       "n0006343014eb9bb                                         2   \n",
       "\n",
       "                  feature_polaroid_vadose_quinze  \\\n",
       "id                                                 \n",
       "n0005f1304ae2f69                               4   \n",
       "n0006343014eb9bb                               2   \n",
       "\n",
       "                  feature_untidy_withdrawn_bargeman  \\\n",
       "id                                                    \n",
       "n0005f1304ae2f69                                  0   \n",
       "n0006343014eb9bb                                  3   \n",
       "\n",
       "                  feature_genuine_kyphotic_trehala  \\\n",
       "id                                                   \n",
       "n0005f1304ae2f69                                 4   \n",
       "n0006343014eb9bb                                 4   \n",
       "\n",
       "                  feature_unenthralled_sportful_schoolhouse  \\\n",
       "id                                                            \n",
       "n0005f1304ae2f69                                          3   \n",
       "n0006343014eb9bb                                          4   \n",
       "\n",
       "                  feature_divulsive_explanatory_ideologue  \\\n",
       "id                                                          \n",
       "n0005f1304ae2f69                                        2   \n",
       "n0006343014eb9bb                                        3   \n",
       "\n",
       "                  feature_ichthyotic_roofed_yeshiva  \\\n",
       "id                                                    \n",
       "n0005f1304ae2f69                                  3   \n",
       "n0006343014eb9bb                                  4   \n",
       "\n",
       "                  feature_waggly_outlandish_carbonisation  \\\n",
       "id                                                          \n",
       "n0005f1304ae2f69                                        0   \n",
       "n0006343014eb9bb                                        4   \n",
       "\n",
       "                  feature_floriated_amish_sprite  \\\n",
       "id                                                 \n",
       "n0005f1304ae2f69                               2   \n",
       "n0006343014eb9bb                               2   \n",
       "\n",
       "                  feature_iconoclastic_parietal_agonist  ...  \\\n",
       "id                                                       ...   \n",
       "n0005f1304ae2f69                                      4  ...   \n",
       "n0006343014eb9bb                                      3  ...   \n",
       "\n",
       "                  feature_disclosed_mnemonic_ineffaceability  \\\n",
       "id                                                             \n",
       "n0005f1304ae2f69                                           1   \n",
       "n0006343014eb9bb                                           3   \n",
       "\n",
       "                  feature_suspended_intracranial_fischer  \\\n",
       "id                                                         \n",
       "n0005f1304ae2f69                                       0   \n",
       "n0006343014eb9bb                                       1   \n",
       "\n",
       "                  feature_shimmering_coverable_congolese  \\\n",
       "id                                                         \n",
       "n0005f1304ae2f69                                       1   \n",
       "n0006343014eb9bb                                       4   \n",
       "\n",
       "                  feature_biserial_fulfilled_harpoon  \\\n",
       "id                                                     \n",
       "n0005f1304ae2f69                                   0   \n",
       "n0006343014eb9bb                                   3   \n",
       "\n",
       "                  feature_pitiable_authoritative_clangor  \\\n",
       "id                                                         \n",
       "n0005f1304ae2f69                                       0   \n",
       "n0006343014eb9bb                                       0   \n",
       "\n",
       "                  feature_abdominal_subtriplicate_fin  \\\n",
       "id                                                      \n",
       "n0005f1304ae2f69                                    0   \n",
       "n0006343014eb9bb                                    0   \n",
       "\n",
       "                  feature_centenarian_ileac_caschrom  \\\n",
       "id                                                     \n",
       "n0005f1304ae2f69                                   4   \n",
       "n0006343014eb9bb                                   2   \n",
       "\n",
       "                  feature_expected_beatified_coparcenary  \\\n",
       "id                                                         \n",
       "n0005f1304ae2f69                                       1   \n",
       "n0006343014eb9bb                                       1   \n",
       "\n",
       "                  feature_unread_isopodan_ethic  \\\n",
       "id                                                \n",
       "n0005f1304ae2f69                              2   \n",
       "n0006343014eb9bb                              2   \n",
       "\n",
       "                  feature_china_fistular_phenylketonuria  \n",
       "id                                                        \n",
       "n0005f1304ae2f69                                       0  \n",
       "n0006343014eb9bb                                       1  \n",
       "\n",
       "[2 rows x 2132 columns]"
      ]
     },
     "execution_count": 8,
     "metadata": {},
     "output_type": "execute_result"
    }
   ],
   "source": [
    "dataf.get_feature_data.head(2)"
   ]
  },
  {
   "cell_type": "code",
   "execution_count": 9,
   "metadata": {},
   "outputs": [
    {
     "data": {
      "text/plain": [
       "[]"
      ]
     },
     "execution_count": 9,
     "metadata": {},
     "output_type": "execute_result"
    }
   ],
   "source": [
    "dataf.prediction_cols"
   ]
  },
  {
   "cell_type": "markdown",
   "metadata": {},
   "source": [
    "`aux_cols` are all columns that are not a feature, target or prediction column."
   ]
  },
  {
   "cell_type": "code",
   "execution_count": 10,
   "metadata": {},
   "outputs": [
    {
     "data": {
      "text/plain": [
       "['era', 'data_type']"
      ]
     },
     "execution_count": 10,
     "metadata": {},
     "output_type": "execute_result"
    }
   ],
   "source": [
    "dataf.aux_cols"
   ]
  },
  {
   "cell_type": "code",
   "execution_count": 11,
   "metadata": {},
   "outputs": [
    {
     "data": {
      "text/html": [
       "<div>\n",
       "<style scoped>\n",
       "    .dataframe tbody tr th:only-of-type {\n",
       "        vertical-align: middle;\n",
       "    }\n",
       "\n",
       "    .dataframe tbody tr th {\n",
       "        vertical-align: top;\n",
       "    }\n",
       "\n",
       "    .dataframe thead th {\n",
       "        text-align: right;\n",
       "    }\n",
       "</style>\n",
       "<table border=\"1\" class=\"dataframe\">\n",
       "  <thead>\n",
       "    <tr style=\"text-align: right;\">\n",
       "      <th></th>\n",
       "      <th>era</th>\n",
       "      <th>data_type</th>\n",
       "    </tr>\n",
       "    <tr>\n",
       "      <th>id</th>\n",
       "      <th></th>\n",
       "      <th></th>\n",
       "    </tr>\n",
       "  </thead>\n",
       "  <tbody>\n",
       "    <tr>\n",
       "      <th>n0005f1304ae2f69</th>\n",
       "      <td>X</td>\n",
       "      <td>live</td>\n",
       "    </tr>\n",
       "    <tr>\n",
       "      <th>n0006343014eb9bb</th>\n",
       "      <td>X</td>\n",
       "      <td>live</td>\n",
       "    </tr>\n",
       "  </tbody>\n",
       "</table>\n",
       "</div>"
      ],
      "text/plain": [
       "                 era data_type\n",
       "id                            \n",
       "n0005f1304ae2f69   X      live\n",
       "n0006343014eb9bb   X      live"
      ]
     },
     "execution_count": 11,
     "metadata": {},
     "output_type": "execute_result"
    }
   ],
   "source": [
    "dataf.get_aux_data.head(2)"
   ]
  },
  {
   "cell_type": "code",
   "execution_count": 12,
   "metadata": {},
   "outputs": [
    {
     "data": {
      "text/html": [
       "<div>\n",
       "<style scoped>\n",
       "    .dataframe tbody tr th:only-of-type {\n",
       "        vertical-align: middle;\n",
       "    }\n",
       "\n",
       "    .dataframe tbody tr th {\n",
       "        vertical-align: top;\n",
       "    }\n",
       "\n",
       "    .dataframe thead th {\n",
       "        text-align: right;\n",
       "    }\n",
       "</style>\n",
       "<table border=\"1\" class=\"dataframe\">\n",
       "  <thead>\n",
       "    <tr style=\"text-align: right;\">\n",
       "      <th></th>\n",
       "    </tr>\n",
       "    <tr>\n",
       "      <th>id</th>\n",
       "    </tr>\n",
       "  </thead>\n",
       "  <tbody>\n",
       "    <tr>\n",
       "      <th>n0005f1304ae2f69</th>\n",
       "    </tr>\n",
       "    <tr>\n",
       "      <th>n0006343014eb9bb</th>\n",
       "    </tr>\n",
       "  </tbody>\n",
       "</table>\n",
       "</div>"
      ],
      "text/plain": [
       "Empty NumerFrame\n",
       "Columns: []\n",
       "Index: [n0005f1304ae2f69, n0006343014eb9bb]"
      ]
     },
     "execution_count": 12,
     "metadata": {},
     "output_type": "execute_result"
    }
   ],
   "source": [
    "dataf.get_prediction_data.head(2)"
   ]
  },
  {
   "cell_type": "code",
   "execution_count": 13,
   "metadata": {},
   "outputs": [
    {
     "data": {
      "text/plain": [
       "'era'"
      ]
     },
     "execution_count": 13,
     "metadata": {},
     "output_type": "execute_result"
    }
   ],
   "source": [
    "dataf.meta.era_col"
   ]
  },
  {
   "cell_type": "markdown",
   "metadata": {},
   "source": [
    "A split of features and target(s) can be retrieved in 1 line of code."
   ]
  },
  {
   "cell_type": "code",
   "execution_count": 14,
   "metadata": {},
   "outputs": [],
   "source": [
    "X, y = dataf.get_feature_target_pair(multi_target=True)"
   ]
  },
  {
   "cell_type": "code",
   "execution_count": 15,
   "metadata": {},
   "outputs": [
    {
     "data": {
      "text/html": [
       "<div>\n",
       "<style scoped>\n",
       "    .dataframe tbody tr th:only-of-type {\n",
       "        vertical-align: middle;\n",
       "    }\n",
       "\n",
       "    .dataframe tbody tr th {\n",
       "        vertical-align: top;\n",
       "    }\n",
       "\n",
       "    .dataframe thead th {\n",
       "        text-align: right;\n",
       "    }\n",
       "</style>\n",
       "<table border=\"1\" class=\"dataframe\">\n",
       "  <thead>\n",
       "    <tr style=\"text-align: right;\">\n",
       "      <th></th>\n",
       "      <th>feature_honoured_observational_balaamite</th>\n",
       "      <th>feature_polaroid_vadose_quinze</th>\n",
       "      <th>feature_untidy_withdrawn_bargeman</th>\n",
       "      <th>feature_genuine_kyphotic_trehala</th>\n",
       "      <th>feature_unenthralled_sportful_schoolhouse</th>\n",
       "      <th>feature_divulsive_explanatory_ideologue</th>\n",
       "      <th>feature_ichthyotic_roofed_yeshiva</th>\n",
       "      <th>feature_waggly_outlandish_carbonisation</th>\n",
       "      <th>feature_floriated_amish_sprite</th>\n",
       "      <th>feature_iconoclastic_parietal_agonist</th>\n",
       "      <th>...</th>\n",
       "      <th>feature_disclosed_mnemonic_ineffaceability</th>\n",
       "      <th>feature_suspended_intracranial_fischer</th>\n",
       "      <th>feature_shimmering_coverable_congolese</th>\n",
       "      <th>feature_biserial_fulfilled_harpoon</th>\n",
       "      <th>feature_pitiable_authoritative_clangor</th>\n",
       "      <th>feature_abdominal_subtriplicate_fin</th>\n",
       "      <th>feature_centenarian_ileac_caschrom</th>\n",
       "      <th>feature_expected_beatified_coparcenary</th>\n",
       "      <th>feature_unread_isopodan_ethic</th>\n",
       "      <th>feature_china_fistular_phenylketonuria</th>\n",
       "    </tr>\n",
       "    <tr>\n",
       "      <th>id</th>\n",
       "      <th></th>\n",
       "      <th></th>\n",
       "      <th></th>\n",
       "      <th></th>\n",
       "      <th></th>\n",
       "      <th></th>\n",
       "      <th></th>\n",
       "      <th></th>\n",
       "      <th></th>\n",
       "      <th></th>\n",
       "      <th></th>\n",
       "      <th></th>\n",
       "      <th></th>\n",
       "      <th></th>\n",
       "      <th></th>\n",
       "      <th></th>\n",
       "      <th></th>\n",
       "      <th></th>\n",
       "      <th></th>\n",
       "      <th></th>\n",
       "      <th></th>\n",
       "    </tr>\n",
       "  </thead>\n",
       "  <tbody>\n",
       "    <tr>\n",
       "      <th>n0005f1304ae2f69</th>\n",
       "      <td>3</td>\n",
       "      <td>4</td>\n",
       "      <td>0</td>\n",
       "      <td>4</td>\n",
       "      <td>3</td>\n",
       "      <td>2</td>\n",
       "      <td>3</td>\n",
       "      <td>0</td>\n",
       "      <td>2</td>\n",
       "      <td>4</td>\n",
       "      <td>...</td>\n",
       "      <td>1</td>\n",
       "      <td>0</td>\n",
       "      <td>1</td>\n",
       "      <td>0</td>\n",
       "      <td>0</td>\n",
       "      <td>0</td>\n",
       "      <td>4</td>\n",
       "      <td>1</td>\n",
       "      <td>2</td>\n",
       "      <td>0</td>\n",
       "    </tr>\n",
       "    <tr>\n",
       "      <th>n0006343014eb9bb</th>\n",
       "      <td>2</td>\n",
       "      <td>2</td>\n",
       "      <td>3</td>\n",
       "      <td>4</td>\n",
       "      <td>4</td>\n",
       "      <td>3</td>\n",
       "      <td>4</td>\n",
       "      <td>4</td>\n",
       "      <td>2</td>\n",
       "      <td>3</td>\n",
       "      <td>...</td>\n",
       "      <td>3</td>\n",
       "      <td>1</td>\n",
       "      <td>4</td>\n",
       "      <td>3</td>\n",
       "      <td>0</td>\n",
       "      <td>0</td>\n",
       "      <td>2</td>\n",
       "      <td>1</td>\n",
       "      <td>2</td>\n",
       "      <td>1</td>\n",
       "    </tr>\n",
       "  </tbody>\n",
       "</table>\n",
       "<p>2 rows × 2132 columns</p>\n",
       "</div>"
      ],
      "text/plain": [
       "                  feature_honoured_observational_balaamite  \\\n",
       "id                                                           \n",
       "n0005f1304ae2f69                                         3   \n",
       "n0006343014eb9bb                                         2   \n",
       "\n",
       "                  feature_polaroid_vadose_quinze  \\\n",
       "id                                                 \n",
       "n0005f1304ae2f69                               4   \n",
       "n0006343014eb9bb                               2   \n",
       "\n",
       "                  feature_untidy_withdrawn_bargeman  \\\n",
       "id                                                    \n",
       "n0005f1304ae2f69                                  0   \n",
       "n0006343014eb9bb                                  3   \n",
       "\n",
       "                  feature_genuine_kyphotic_trehala  \\\n",
       "id                                                   \n",
       "n0005f1304ae2f69                                 4   \n",
       "n0006343014eb9bb                                 4   \n",
       "\n",
       "                  feature_unenthralled_sportful_schoolhouse  \\\n",
       "id                                                            \n",
       "n0005f1304ae2f69                                          3   \n",
       "n0006343014eb9bb                                          4   \n",
       "\n",
       "                  feature_divulsive_explanatory_ideologue  \\\n",
       "id                                                          \n",
       "n0005f1304ae2f69                                        2   \n",
       "n0006343014eb9bb                                        3   \n",
       "\n",
       "                  feature_ichthyotic_roofed_yeshiva  \\\n",
       "id                                                    \n",
       "n0005f1304ae2f69                                  3   \n",
       "n0006343014eb9bb                                  4   \n",
       "\n",
       "                  feature_waggly_outlandish_carbonisation  \\\n",
       "id                                                          \n",
       "n0005f1304ae2f69                                        0   \n",
       "n0006343014eb9bb                                        4   \n",
       "\n",
       "                  feature_floriated_amish_sprite  \\\n",
       "id                                                 \n",
       "n0005f1304ae2f69                               2   \n",
       "n0006343014eb9bb                               2   \n",
       "\n",
       "                  feature_iconoclastic_parietal_agonist  ...  \\\n",
       "id                                                       ...   \n",
       "n0005f1304ae2f69                                      4  ...   \n",
       "n0006343014eb9bb                                      3  ...   \n",
       "\n",
       "                  feature_disclosed_mnemonic_ineffaceability  \\\n",
       "id                                                             \n",
       "n0005f1304ae2f69                                           1   \n",
       "n0006343014eb9bb                                           3   \n",
       "\n",
       "                  feature_suspended_intracranial_fischer  \\\n",
       "id                                                         \n",
       "n0005f1304ae2f69                                       0   \n",
       "n0006343014eb9bb                                       1   \n",
       "\n",
       "                  feature_shimmering_coverable_congolese  \\\n",
       "id                                                         \n",
       "n0005f1304ae2f69                                       1   \n",
       "n0006343014eb9bb                                       4   \n",
       "\n",
       "                  feature_biserial_fulfilled_harpoon  \\\n",
       "id                                                     \n",
       "n0005f1304ae2f69                                   0   \n",
       "n0006343014eb9bb                                   3   \n",
       "\n",
       "                  feature_pitiable_authoritative_clangor  \\\n",
       "id                                                         \n",
       "n0005f1304ae2f69                                       0   \n",
       "n0006343014eb9bb                                       0   \n",
       "\n",
       "                  feature_abdominal_subtriplicate_fin  \\\n",
       "id                                                      \n",
       "n0005f1304ae2f69                                    0   \n",
       "n0006343014eb9bb                                    0   \n",
       "\n",
       "                  feature_centenarian_ileac_caschrom  \\\n",
       "id                                                     \n",
       "n0005f1304ae2f69                                   4   \n",
       "n0006343014eb9bb                                   2   \n",
       "\n",
       "                  feature_expected_beatified_coparcenary  \\\n",
       "id                                                         \n",
       "n0005f1304ae2f69                                       1   \n",
       "n0006343014eb9bb                                       1   \n",
       "\n",
       "                  feature_unread_isopodan_ethic  \\\n",
       "id                                                \n",
       "n0005f1304ae2f69                              2   \n",
       "n0006343014eb9bb                              2   \n",
       "\n",
       "                  feature_china_fistular_phenylketonuria  \n",
       "id                                                        \n",
       "n0005f1304ae2f69                                       0  \n",
       "n0006343014eb9bb                                       1  \n",
       "\n",
       "[2 rows x 2132 columns]"
      ]
     },
     "execution_count": 15,
     "metadata": {},
     "output_type": "execute_result"
    }
   ],
   "source": [
    "X.head(2)"
   ]
  },
  {
   "cell_type": "code",
   "execution_count": 16,
   "metadata": {},
   "outputs": [
    {
     "data": {
      "text/html": [
       "<div>\n",
       "<style scoped>\n",
       "    .dataframe tbody tr th:only-of-type {\n",
       "        vertical-align: middle;\n",
       "    }\n",
       "\n",
       "    .dataframe tbody tr th {\n",
       "        vertical-align: top;\n",
       "    }\n",
       "\n",
       "    .dataframe thead th {\n",
       "        text-align: right;\n",
       "    }\n",
       "</style>\n",
       "<table border=\"1\" class=\"dataframe\">\n",
       "  <thead>\n",
       "    <tr style=\"text-align: right;\">\n",
       "      <th></th>\n",
       "      <th>target</th>\n",
       "      <th>target_nomi_v4_20</th>\n",
       "      <th>target_nomi_v4_60</th>\n",
       "      <th>target_tyler_v4_20</th>\n",
       "      <th>target_tyler_v4_60</th>\n",
       "      <th>target_victor_v4_20</th>\n",
       "      <th>target_victor_v4_60</th>\n",
       "      <th>target_ralph_v4_20</th>\n",
       "      <th>target_ralph_v4_60</th>\n",
       "      <th>target_waldo_v4_20</th>\n",
       "      <th>...</th>\n",
       "      <th>target_bravo_v4_20</th>\n",
       "      <th>target_bravo_v4_60</th>\n",
       "      <th>target_charlie_v4_20</th>\n",
       "      <th>target_charlie_v4_60</th>\n",
       "      <th>target_delta_v4_20</th>\n",
       "      <th>target_delta_v4_60</th>\n",
       "      <th>target_echo_v4_20</th>\n",
       "      <th>target_echo_v4_60</th>\n",
       "      <th>target_jeremy_v4_20</th>\n",
       "      <th>target_jeremy_v4_60</th>\n",
       "    </tr>\n",
       "    <tr>\n",
       "      <th>id</th>\n",
       "      <th></th>\n",
       "      <th></th>\n",
       "      <th></th>\n",
       "      <th></th>\n",
       "      <th></th>\n",
       "      <th></th>\n",
       "      <th></th>\n",
       "      <th></th>\n",
       "      <th></th>\n",
       "      <th></th>\n",
       "      <th></th>\n",
       "      <th></th>\n",
       "      <th></th>\n",
       "      <th></th>\n",
       "      <th></th>\n",
       "      <th></th>\n",
       "      <th></th>\n",
       "      <th></th>\n",
       "      <th></th>\n",
       "      <th></th>\n",
       "      <th></th>\n",
       "    </tr>\n",
       "  </thead>\n",
       "  <tbody>\n",
       "    <tr>\n",
       "      <th>n0005f1304ae2f69</th>\n",
       "      <td>NaN</td>\n",
       "      <td>NaN</td>\n",
       "      <td>NaN</td>\n",
       "      <td>NaN</td>\n",
       "      <td>NaN</td>\n",
       "      <td>NaN</td>\n",
       "      <td>NaN</td>\n",
       "      <td>NaN</td>\n",
       "      <td>NaN</td>\n",
       "      <td>NaN</td>\n",
       "      <td>...</td>\n",
       "      <td>NaN</td>\n",
       "      <td>NaN</td>\n",
       "      <td>NaN</td>\n",
       "      <td>NaN</td>\n",
       "      <td>NaN</td>\n",
       "      <td>NaN</td>\n",
       "      <td>NaN</td>\n",
       "      <td>NaN</td>\n",
       "      <td>NaN</td>\n",
       "      <td>NaN</td>\n",
       "    </tr>\n",
       "    <tr>\n",
       "      <th>n0006343014eb9bb</th>\n",
       "      <td>NaN</td>\n",
       "      <td>NaN</td>\n",
       "      <td>NaN</td>\n",
       "      <td>NaN</td>\n",
       "      <td>NaN</td>\n",
       "      <td>NaN</td>\n",
       "      <td>NaN</td>\n",
       "      <td>NaN</td>\n",
       "      <td>NaN</td>\n",
       "      <td>NaN</td>\n",
       "      <td>...</td>\n",
       "      <td>NaN</td>\n",
       "      <td>NaN</td>\n",
       "      <td>NaN</td>\n",
       "      <td>NaN</td>\n",
       "      <td>NaN</td>\n",
       "      <td>NaN</td>\n",
       "      <td>NaN</td>\n",
       "      <td>NaN</td>\n",
       "      <td>NaN</td>\n",
       "      <td>NaN</td>\n",
       "    </tr>\n",
       "  </tbody>\n",
       "</table>\n",
       "<p>2 rows × 49 columns</p>\n",
       "</div>"
      ],
      "text/plain": [
       "                  target  target_nomi_v4_20  target_nomi_v4_60  \\\n",
       "id                                                               \n",
       "n0005f1304ae2f69     NaN                NaN                NaN   \n",
       "n0006343014eb9bb     NaN                NaN                NaN   \n",
       "\n",
       "                  target_tyler_v4_20  target_tyler_v4_60  target_victor_v4_20  \\\n",
       "id                                                                              \n",
       "n0005f1304ae2f69                 NaN                 NaN                  NaN   \n",
       "n0006343014eb9bb                 NaN                 NaN                  NaN   \n",
       "\n",
       "                  target_victor_v4_60  target_ralph_v4_20  target_ralph_v4_60  \\\n",
       "id                                                                              \n",
       "n0005f1304ae2f69                  NaN                 NaN                 NaN   \n",
       "n0006343014eb9bb                  NaN                 NaN                 NaN   \n",
       "\n",
       "                  target_waldo_v4_20  ...  target_bravo_v4_20  \\\n",
       "id                                    ...                       \n",
       "n0005f1304ae2f69                 NaN  ...                 NaN   \n",
       "n0006343014eb9bb                 NaN  ...                 NaN   \n",
       "\n",
       "                  target_bravo_v4_60  target_charlie_v4_20  \\\n",
       "id                                                           \n",
       "n0005f1304ae2f69                 NaN                   NaN   \n",
       "n0006343014eb9bb                 NaN                   NaN   \n",
       "\n",
       "                  target_charlie_v4_60  target_delta_v4_20  \\\n",
       "id                                                           \n",
       "n0005f1304ae2f69                   NaN                 NaN   \n",
       "n0006343014eb9bb                   NaN                 NaN   \n",
       "\n",
       "                  target_delta_v4_60  target_echo_v4_20  target_echo_v4_60  \\\n",
       "id                                                                           \n",
       "n0005f1304ae2f69                 NaN                NaN                NaN   \n",
       "n0006343014eb9bb                 NaN                NaN                NaN   \n",
       "\n",
       "                  target_jeremy_v4_20  target_jeremy_v4_60  \n",
       "id                                                          \n",
       "n0005f1304ae2f69                  NaN                  NaN  \n",
       "n0006343014eb9bb                  NaN                  NaN  \n",
       "\n",
       "[2 rows x 49 columns]"
      ]
     },
     "execution_count": 16,
     "metadata": {},
     "output_type": "execute_result"
    }
   ],
   "source": [
    "y.head(2)"
   ]
  },
  {
   "cell_type": "markdown",
   "metadata": {},
   "source": [
    "### Custom TensorFlow generator\n",
    "\n",
    "To illustrate a practical example, we will build a Tensorflow DataGenerator that returns a batch containing feature and target for 1 or multiple eras. Features and targets columns will be found automatically if not specified."
   ]
  },
  {
   "cell_type": "code",
   "execution_count": 17,
   "metadata": {},
   "outputs": [
    {
     "name": "stderr",
     "output_type": "stream",
     "text": [
      "2023-09-13 13:32:04.529382: I tensorflow/core/platform/cpu_feature_guard.cc:182] This TensorFlow binary is optimized to use available CPU instructions in performance-critical operations.\n",
      "To enable the following instructions: AVX2 FMA, in other operations, rebuild TensorFlow with the appropriate compiler flags.\n",
      "2023-09-13 13:32:05.475565: W tensorflow/compiler/tf2tensorrt/utils/py_utils.cc:38] TF-TRT Warning: Could not find TensorRT\n"
     ]
    }
   ],
   "source": [
    "import numpy as np\n",
    "import tensorflow as tf\n",
    "from typing import Tuple\n",
    "\n",
    "class TFGenerator(tf.keras.utils.Sequence):\n",
    "    \"\"\"\n",
    "    Tensorflow generator for Numerai era batches.\n",
    "    :param dataf: A NumerFrame\n",
    "    :param features: Features to select. All by default.\n",
    "    :param targets: Targets to select. All by default.\n",
    "    :param n_eras_batch: How many eras per batch.\n",
    "    :param shuffle: Shuffle eras of not.\n",
    "    \"\"\"\n",
    "    def __init__(self, dataf: NumerFrame,\n",
    "                 features: list = None,\n",
    "                 targets: list = None,\n",
    "                 n_eras_batch=1,\n",
    "                 shuffle=True):\n",
    "        self.dataf = dataf\n",
    "        self.features, self.targets = features, targets\n",
    "        self.n_eras_batch = n_eras_batch\n",
    "        self.shuffle = shuffle\n",
    "        self.eras = dataf[dataf.meta.era_col].unique()\n",
    "        self.on_epoch_end()\n",
    "\n",
    "    def __len__(self):\n",
    "        return int(np.ceil(len(self.eras) / self.n_eras_batch))\n",
    "\n",
    "    def on_epoch_end(self):\n",
    "        np.random.shuffle(self.eras) if self.shuffle else ...\n",
    "\n",
    "    def __getitem__(self, idx: int) -> Tuple[tf.Tensor, tf.Tensor]:\n",
    "        eras = self.eras[idx:idx+self.n_eras_batch]\n",
    "        return dataf.get_era_batch(eras=eras,\n",
    "                                   targets=self.targets,\n",
    "                                   features=self.features,\n",
    "                                   convert_to_tf=True\n",
    "                                   )"
   ]
  },
  {
   "cell_type": "markdown",
   "metadata": {},
   "source": [
    "Note that `NumerFrame` has its own method for getting batches of eras. It can therefore be implemented with one line for a new generator. If features and targets are not specified it will automatically retrieve all features and targets in the `NumerFrame`."
   ]
  },
  {
   "cell_type": "markdown",
   "metadata": {},
   "source": [
    "We can now use this generator for TensorFlow model training, evaluation and inference. This example shows how to get batches of 2 eras each for both nomi targets."
   ]
  },
  {
   "cell_type": "code",
   "execution_count": 18,
   "metadata": {},
   "outputs": [
    {
     "name": "stdout",
     "output_type": "stream",
     "text": [
      "Total era batches: 1\n"
     ]
    },
    {
     "name": "stderr",
     "output_type": "stream",
     "text": [
      "2023-09-13 13:32:06.818705: E tensorflow/compiler/xla/stream_executor/cuda/cuda_driver.cc:268] failed call to cuInit: CUDA_ERROR_NO_DEVICE: no CUDA-capable device is detected\n"
     ]
    }
   ],
   "source": [
    "gen = TFGenerator(dataf=dataf, n_eras_batch=2, targets=['target'])\n",
    "print(f\"Total era batches: {len(gen)}\")\n",
    "X, y = gen[0]"
   ]
  },
  {
   "cell_type": "code",
   "execution_count": 19,
   "metadata": {},
   "outputs": [
    {
     "data": {
      "text/plain": [
       "<tf.Tensor: shape=(4885, 2132), dtype=int8, numpy=\n",
       "array([[3, 4, 0, ..., 1, 2, 0],\n",
       "       [2, 2, 3, ..., 1, 2, 1],\n",
       "       [0, 4, 3, ..., 1, 0, 3],\n",
       "       ...,\n",
       "       [4, 1, 3, ..., 1, 3, 3],\n",
       "       [4, 3, 4, ..., 1, 1, 3],\n",
       "       [2, 4, 4, ..., 0, 0, 0]], dtype=int8)>"
      ]
     },
     "execution_count": 19,
     "metadata": {},
     "output_type": "execute_result"
    }
   ],
   "source": [
    "X"
   ]
  },
  {
   "cell_type": "markdown",
   "metadata": {},
   "source": [
    "Because we are looking at live data naturally our targets are nans in this case."
   ]
  },
  {
   "cell_type": "code",
   "execution_count": 20,
   "metadata": {},
   "outputs": [
    {
     "data": {
      "text/plain": [
       "<tf.Tensor: shape=(4885, 1), dtype=float64, numpy=\n",
       "array([[nan],\n",
       "       [nan],\n",
       "       [nan],\n",
       "       ...,\n",
       "       [nan],\n",
       "       [nan],\n",
       "       [nan]])>"
      ]
     },
     "execution_count": 20,
     "metadata": {},
     "output_type": "execute_result"
    }
   ],
   "source": [
    "y"
   ]
  },
  {
   "cell_type": "markdown",
   "metadata": {},
   "source": [
    "In this tutorial we have created a flexible Tensorflow generator leveraging convenient properties of `NumerFrame`. `NumerFrame` will automatically recognize features, targets and prediction columns, provides tested code for splitting data, has an implementation to get batches of eras and makes sure our era column is correct."
   ]
  },
  {
   "cell_type": "markdown",
   "metadata": {},
   "source": [
    "------------------------------------------------------"
   ]
  },
  {
   "cell_type": "markdown",
   "metadata": {},
   "source": [
    "After we are done we can easily clean up our downloaded data with one line of code called from the downloader."
   ]
  },
  {
   "cell_type": "code",
   "execution_count": 21,
   "metadata": {},
   "outputs": [
    {
     "data": {
      "text/html": [
       "<pre style=\"white-space:pre;overflow-x:auto;line-height:normal;font-family:Menlo,'DejaVu Sans Mono',consolas,'Courier New',monospace\">⚠ <span style=\"color: #800000; text-decoration-color: #800000\">Deleting directory for </span><span style=\"color: #800000; text-decoration-color: #800000\">'NumeraiClassicDownloader</span><span style=\"color: #008000; text-decoration-color: #008000\">'</span> ⚠\n",
       "Path: <span style=\"color: #008000; text-decoration-color: #008000\">'/home/clepelaars/numerblox/examples/numerframe_edu'</span>\n",
       "</pre>\n"
      ],
      "text/plain": [
       "⚠ \u001b[31mDeleting directory for \u001b[0m\u001b[31m'NumeraiClassicDownloader\u001b[0m\u001b[32m'\u001b[0m ⚠\n",
       "Path: \u001b[32m'/home/clepelaars/numerblox/examples/numerframe_edu'\u001b[0m\n"
      ]
     },
     "metadata": {},
     "output_type": "display_data"
    }
   ],
   "source": [
    "# Clean up environment\n",
    "downloader.remove_base_directory()"
   ]
  }
 ],
 "metadata": {
  "kernelspec": {
   "display_name": "python3",
   "language": "python",
   "name": "python3"
  },
  "language_info": {
   "codemirror_mode": {
    "name": "ipython",
    "version": 3
   },
   "file_extension": ".py",
   "mimetype": "text/x-python",
   "name": "python",
   "nbconvert_exporter": "python",
   "pygments_lexer": "ipython3",
   "version": "3.9.12"
  }
 },
 "nbformat": 4,
 "nbformat_minor": 0
}
