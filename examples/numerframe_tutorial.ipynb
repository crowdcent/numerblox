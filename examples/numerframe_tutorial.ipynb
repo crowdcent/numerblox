{
 "cells": [
  {
   "cell_type": "raw",
   "metadata": {},
   "source": [
    "---\n",
    "output-file: numerframe_tutorial.html\n",
    "title: NumerFrame tutorial and custom TensorFlow Generator example\n",
    "\n",
    "---\n",
    "\n"
   ]
  },
  {
   "cell_type": "code",
   "execution_count": null,
   "metadata": {},
   "outputs": [],
   "source": [
    "#| include: false\n",
    "from nbdev.showdoc import *"
   ]
  },
  {
   "cell_type": "markdown",
   "metadata": {},
   "source": [
    "This tutorial introduces core functionality of `NumerFrame` and how to build a custom TensorFlow DataGenerator using the `NumerFrame`. This application is a good example of how `NumerFrame` can make it easier to implement Numerai specific applications."
   ]
  },
  {
   "cell_type": "code",
   "execution_count": null,
   "metadata": {},
   "outputs": [],
   "source": [
    "from nbdev import show_doc\n",
    "from numerblox.numerframe import create_numerframe, NumerFrame\n",
    "from numerblox.download import NumeraiClassicDownloader"
   ]
  },
  {
   "cell_type": "markdown",
   "metadata": {},
   "source": [
    "First, we download validation data using `NumeraiClassicDownloader`."
   ]
  },
  {
   "cell_type": "code",
   "execution_count": null,
   "metadata": {},
   "outputs": [
    {
     "data": {
      "text/html": [
       "<pre style=\"white-space:pre;overflow-x:auto;line-height:normal;font-family:Menlo,'DejaVu Sans Mono',consolas,'Courier New',monospace\">No existing directory found at <span style=\"color: #008000; text-decoration-color: #008000\">'</span><span style=\"color: #000080; text-decoration-color: #000080\">numerframe_edu</span><span style=\"color: #008000; text-decoration-color: #008000\">'</span>. Creating directory<span style=\"color: #808000; text-decoration-color: #808000\">...</span>\n",
       "</pre>\n"
      ],
      "text/plain": [
       "No existing directory found at \u001b[32m'\u001b[0m\u001b[34mnumerframe_edu\u001b[0m\u001b[32m'\u001b[0m. Creating directory\u001b[33m...\u001b[0m\n"
      ]
     },
     "metadata": {},
     "output_type": "display_data"
    },
    {
     "data": {
      "text/html": [
       "<pre style=\"white-space:pre;overflow-x:auto;line-height:normal;font-family:Menlo,'DejaVu Sans Mono',consolas,'Courier New',monospace\">📁 <span style=\"color: #008000; text-decoration-color: #008000\">Downloading</span> <span style=\"color: #008000; text-decoration-color: #008000\">'numerai_validation_data.parquet'</span> 📁\n",
       "</pre>\n"
      ],
      "text/plain": [
       "📁 \u001b[32mDownloading\u001b[0m \u001b[32m'numerai_validation_data.parquet'\u001b[0m 📁\n"
      ]
     },
     "metadata": {},
     "output_type": "display_data"
    },
    {
     "name": "stderr",
     "output_type": "stream",
     "text": [
      "2023-09-04 12:15:15,813 INFO numerapi.utils: starting download\n",
      "numerframe_edu/numerai_validation_data.parquet: 228MB [00:15, 14.5MB/s]                            \n"
     ]
    }
   ],
   "source": [
    "downloader = NumeraiClassicDownloader(\"numerframe_edu\")\n",
    "# Path variables\n",
    "val_file = \"numerai_validation_data.parquet\"\n",
    "val_save_path = f\"{str(downloader.dir)}/{val_file}\"\n",
    "# Download only validation parquet file\n",
    "downloader.download_single_dataset(val_file,\n",
    "                                   dest_path=val_save_path)"
   ]
  },
  {
   "cell_type": "markdown",
   "metadata": {},
   "source": [
    "Loading in data and initializing a `NumerFrame` takes one line of code. It will automatically recognize the data format such as `.csv` or `.parquet`."
   ]
  },
  {
   "cell_type": "code",
   "execution_count": null,
   "metadata": {},
   "outputs": [],
   "source": [
    "# Initialize NumerFrame from parquet file path\n",
    "dataf = create_numerframe(val_save_path)"
   ]
  },
  {
   "cell_type": "markdown",
   "metadata": {},
   "source": [
    "All features of Pandas DataFrames can still be used in a `NumerFrame`."
   ]
  },
  {
   "cell_type": "code",
   "execution_count": null,
   "metadata": {},
   "outputs": [
    {
     "data": {
      "text/html": [
       "<div>\n",
       "<style scoped>\n",
       "    .dataframe tbody tr th:only-of-type {\n",
       "        vertical-align: middle;\n",
       "    }\n",
       "\n",
       "    .dataframe tbody tr th {\n",
       "        vertical-align: top;\n",
       "    }\n",
       "\n",
       "    .dataframe thead th {\n",
       "        text-align: right;\n",
       "    }\n",
       "</style>\n",
       "<table border=\"1\" class=\"dataframe\">\n",
       "  <thead>\n",
       "    <tr style=\"text-align: right;\">\n",
       "      <th></th>\n",
       "      <th>era</th>\n",
       "      <th>data_type</th>\n",
       "      <th>feature_dichasial_hammier_spawner</th>\n",
       "      <th>feature_rheumy_epistemic_prancer</th>\n",
       "      <th>feature_pert_performative_hormuz</th>\n",
       "      <th>feature_hillier_unpitied_theobromine</th>\n",
       "      <th>feature_perigean_bewitching_thruster</th>\n",
       "      <th>feature_renegade_undomestic_milord</th>\n",
       "      <th>feature_koranic_rude_corf</th>\n",
       "      <th>feature_demisable_expiring_millepede</th>\n",
       "      <th>...</th>\n",
       "      <th>target_paul_20</th>\n",
       "      <th>target_paul_60</th>\n",
       "      <th>target_george_20</th>\n",
       "      <th>target_george_60</th>\n",
       "      <th>target_william_20</th>\n",
       "      <th>target_william_60</th>\n",
       "      <th>target_arthur_20</th>\n",
       "      <th>target_arthur_60</th>\n",
       "      <th>target_thomas_20</th>\n",
       "      <th>target_thomas_60</th>\n",
       "    </tr>\n",
       "    <tr>\n",
       "      <th>id</th>\n",
       "      <th></th>\n",
       "      <th></th>\n",
       "      <th></th>\n",
       "      <th></th>\n",
       "      <th></th>\n",
       "      <th></th>\n",
       "      <th></th>\n",
       "      <th></th>\n",
       "      <th></th>\n",
       "      <th></th>\n",
       "      <th></th>\n",
       "      <th></th>\n",
       "      <th></th>\n",
       "      <th></th>\n",
       "      <th></th>\n",
       "      <th></th>\n",
       "      <th></th>\n",
       "      <th></th>\n",
       "      <th></th>\n",
       "      <th></th>\n",
       "      <th></th>\n",
       "    </tr>\n",
       "  </thead>\n",
       "  <tbody>\n",
       "    <tr>\n",
       "      <th>n000777698096000</th>\n",
       "      <td>0857</td>\n",
       "      <td>validation</td>\n",
       "      <td>0.50</td>\n",
       "      <td>0.50</td>\n",
       "      <td>0.25</td>\n",
       "      <td>0.25</td>\n",
       "      <td>0.0</td>\n",
       "      <td>0.0</td>\n",
       "      <td>0.00</td>\n",
       "      <td>0.75</td>\n",
       "      <td>...</td>\n",
       "      <td>0.25</td>\n",
       "      <td>0.5</td>\n",
       "      <td>0.25</td>\n",
       "      <td>0.5</td>\n",
       "      <td>0.166667</td>\n",
       "      <td>0.500000</td>\n",
       "      <td>0.166667</td>\n",
       "      <td>0.500000</td>\n",
       "      <td>0.166667</td>\n",
       "      <td>0.5</td>\n",
       "    </tr>\n",
       "    <tr>\n",
       "      <th>n0009793a3b91c27</th>\n",
       "      <td>0857</td>\n",
       "      <td>validation</td>\n",
       "      <td>0.75</td>\n",
       "      <td>0.25</td>\n",
       "      <td>0.50</td>\n",
       "      <td>0.75</td>\n",
       "      <td>1.0</td>\n",
       "      <td>0.0</td>\n",
       "      <td>0.25</td>\n",
       "      <td>0.25</td>\n",
       "      <td>...</td>\n",
       "      <td>0.50</td>\n",
       "      <td>0.5</td>\n",
       "      <td>0.50</td>\n",
       "      <td>0.5</td>\n",
       "      <td>0.666667</td>\n",
       "      <td>0.833333</td>\n",
       "      <td>0.666667</td>\n",
       "      <td>0.833333</td>\n",
       "      <td>0.500000</td>\n",
       "      <td>0.5</td>\n",
       "    </tr>\n",
       "  </tbody>\n",
       "</table>\n",
       "<p>2 rows × 1073 columns</p>\n",
       "</div>"
      ],
      "text/plain": [
       "                   era   data_type  feature_dichasial_hammier_spawner  \\\n",
       "id                                                                      \n",
       "n000777698096000  0857  validation                               0.50   \n",
       "n0009793a3b91c27  0857  validation                               0.75   \n",
       "\n",
       "                  feature_rheumy_epistemic_prancer  \\\n",
       "id                                                   \n",
       "n000777698096000                              0.50   \n",
       "n0009793a3b91c27                              0.25   \n",
       "\n",
       "                  feature_pert_performative_hormuz  \\\n",
       "id                                                   \n",
       "n000777698096000                              0.25   \n",
       "n0009793a3b91c27                              0.50   \n",
       "\n",
       "                  feature_hillier_unpitied_theobromine  \\\n",
       "id                                                       \n",
       "n000777698096000                                  0.25   \n",
       "n0009793a3b91c27                                  0.75   \n",
       "\n",
       "                  feature_perigean_bewitching_thruster  \\\n",
       "id                                                       \n",
       "n000777698096000                                   0.0   \n",
       "n0009793a3b91c27                                   1.0   \n",
       "\n",
       "                  feature_renegade_undomestic_milord  \\\n",
       "id                                                     \n",
       "n000777698096000                                 0.0   \n",
       "n0009793a3b91c27                                 0.0   \n",
       "\n",
       "                  feature_koranic_rude_corf  \\\n",
       "id                                            \n",
       "n000777698096000                       0.00   \n",
       "n0009793a3b91c27                       0.25   \n",
       "\n",
       "                  feature_demisable_expiring_millepede  ...  target_paul_20  \\\n",
       "id                                                      ...                   \n",
       "n000777698096000                                  0.75  ...            0.25   \n",
       "n0009793a3b91c27                                  0.25  ...            0.50   \n",
       "\n",
       "                  target_paul_60  target_george_20  target_george_60  \\\n",
       "id                                                                     \n",
       "n000777698096000             0.5              0.25               0.5   \n",
       "n0009793a3b91c27             0.5              0.50               0.5   \n",
       "\n",
       "                  target_william_20  target_william_60  target_arthur_20  \\\n",
       "id                                                                         \n",
       "n000777698096000           0.166667           0.500000          0.166667   \n",
       "n0009793a3b91c27           0.666667           0.833333          0.666667   \n",
       "\n",
       "                  target_arthur_60  target_thomas_20  target_thomas_60  \n",
       "id                                                                      \n",
       "n000777698096000          0.500000          0.166667               0.5  \n",
       "n0009793a3b91c27          0.833333          0.500000               0.5  \n",
       "\n",
       "[2 rows x 1073 columns]"
      ]
     },
     "execution_count": null,
     "metadata": {},
     "output_type": "execute_result"
    }
   ],
   "source": [
    "dataf.head(2)"
   ]
  },
  {
   "cell_type": "code",
   "execution_count": null,
   "metadata": {},
   "outputs": [
    {
     "data": {
      "image/png": "[encoded data removed]",
      "text/plain": [
       "<Figure size 1500x600 with 1 Axes>"
      ]
     },
     "metadata": {},
     "output_type": "display_data"
    }
   ],
   "source": [
    "dataf.groupby('era')[\"target\"].size().plot(title=\"Assets in 'era' over time\",\n",
    "                                           figsize=(15, 6));"
   ]
  },
  {
   "cell_type": "markdown",
   "metadata": {},
   "source": [
    "NumerFrame extends the Pandas DataFrame with convenient features for working with Numerai data.\n",
    "\n",
    "For example, the `NumerFrame` groups columns and makes use of the fact that, for Numerai data, all feature column names start with `'feature'`, target columns start with `'target'`, etc. It also keeps track of the era column and parses it automatically for other parts of this library (`'era'` for Numerai Classic and `'friday_date'` for Numerai Signals)."
   ]
  },
  {
   "cell_type": "code",
   "execution_count": null,
   "metadata": {},
   "outputs": [
    {
     "data": {
      "text/plain": [
       "'target_thomas_60'"
      ]
     },
     "execution_count": null,
     "metadata": {},
     "output_type": "execute_result"
    }
   ],
   "source": [
    "dataf.target_cols[-1]"
   ]
  },
  {
   "cell_type": "code",
   "execution_count": null,
   "metadata": {},
   "outputs": [
    {
     "data": {
      "text/html": [
       "<div>\n",
       "<style scoped>\n",
       "    .dataframe tbody tr th:only-of-type {\n",
       "        vertical-align: middle;\n",
       "    }\n",
       "\n",
       "    .dataframe tbody tr th {\n",
       "        vertical-align: top;\n",
       "    }\n",
       "\n",
       "    .dataframe thead th {\n",
       "        text-align: right;\n",
       "    }\n",
       "</style>\n",
       "<table border=\"1\" class=\"dataframe\">\n",
       "  <thead>\n",
       "    <tr style=\"text-align: right;\">\n",
       "      <th></th>\n",
       "      <th>target</th>\n",
       "    </tr>\n",
       "    <tr>\n",
       "      <th>id</th>\n",
       "      <th></th>\n",
       "    </tr>\n",
       "  </thead>\n",
       "  <tbody>\n",
       "    <tr>\n",
       "      <th>n000777698096000</th>\n",
       "      <td>0.25</td>\n",
       "    </tr>\n",
       "    <tr>\n",
       "      <th>n0009793a3b91c27</th>\n",
       "      <td>0.50</td>\n",
       "    </tr>\n",
       "  </tbody>\n",
       "</table>\n",
       "</div>"
      ],
      "text/plain": [
       "                  target\n",
       "id                      \n",
       "n000777698096000    0.25\n",
       "n0009793a3b91c27    0.50"
      ]
     },
     "execution_count": null,
     "metadata": {},
     "output_type": "execute_result"
    }
   ],
   "source": [
    "dataf.get_single_target_data.head(2)"
   ]
  },
  {
   "cell_type": "code",
   "execution_count": null,
   "metadata": {},
   "outputs": [
    {
     "data": {
      "text/plain": [
       "'feature_dichasial_hammier_spawner'"
      ]
     },
     "execution_count": null,
     "metadata": {},
     "output_type": "execute_result"
    }
   ],
   "source": [
    "dataf.feature_cols[0]"
   ]
  },
  {
   "cell_type": "code",
   "execution_count": null,
   "metadata": {},
   "outputs": [
    {
     "data": {
      "text/html": [
       "<div>\n",
       "<style scoped>\n",
       "    .dataframe tbody tr th:only-of-type {\n",
       "        vertical-align: middle;\n",
       "    }\n",
       "\n",
       "    .dataframe tbody tr th {\n",
       "        vertical-align: top;\n",
       "    }\n",
       "\n",
       "    .dataframe thead th {\n",
       "        text-align: right;\n",
       "    }\n",
       "</style>\n",
       "<table border=\"1\" class=\"dataframe\">\n",
       "  <thead>\n",
       "    <tr style=\"text-align: right;\">\n",
       "      <th></th>\n",
       "      <th>feature_dichasial_hammier_spawner</th>\n",
       "      <th>feature_rheumy_epistemic_prancer</th>\n",
       "      <th>feature_pert_performative_hormuz</th>\n",
       "      <th>feature_hillier_unpitied_theobromine</th>\n",
       "      <th>feature_perigean_bewitching_thruster</th>\n",
       "      <th>feature_renegade_undomestic_milord</th>\n",
       "      <th>feature_koranic_rude_corf</th>\n",
       "      <th>feature_demisable_expiring_millepede</th>\n",
       "      <th>feature_unscheduled_malignant_shingling</th>\n",
       "      <th>feature_clawed_unwept_adaptability</th>\n",
       "      <th>...</th>\n",
       "      <th>feature_unpruned_pedagoguish_inkblot</th>\n",
       "      <th>feature_forworn_hask_haet</th>\n",
       "      <th>feature_drawable_exhortative_dispersant</th>\n",
       "      <th>feature_metabolic_minded_armorist</th>\n",
       "      <th>feature_investigatory_inerasable_circumvallation</th>\n",
       "      <th>feature_centroclinal_incentive_lancelet</th>\n",
       "      <th>feature_unemotional_quietistic_chirper</th>\n",
       "      <th>feature_behaviorist_microbiological_farina</th>\n",
       "      <th>feature_lofty_acceptable_challenge</th>\n",
       "      <th>feature_coactive_prefatorial_lucy</th>\n",
       "    </tr>\n",
       "    <tr>\n",
       "      <th>id</th>\n",
       "      <th></th>\n",
       "      <th></th>\n",
       "      <th></th>\n",
       "      <th></th>\n",
       "      <th></th>\n",
       "      <th></th>\n",
       "      <th></th>\n",
       "      <th></th>\n",
       "      <th></th>\n",
       "      <th></th>\n",
       "      <th></th>\n",
       "      <th></th>\n",
       "      <th></th>\n",
       "      <th></th>\n",
       "      <th></th>\n",
       "      <th></th>\n",
       "      <th></th>\n",
       "      <th></th>\n",
       "      <th></th>\n",
       "      <th></th>\n",
       "      <th></th>\n",
       "    </tr>\n",
       "  </thead>\n",
       "  <tbody>\n",
       "    <tr>\n",
       "      <th>n000777698096000</th>\n",
       "      <td>0.50</td>\n",
       "      <td>0.50</td>\n",
       "      <td>0.25</td>\n",
       "      <td>0.25</td>\n",
       "      <td>0.0</td>\n",
       "      <td>0.0</td>\n",
       "      <td>0.00</td>\n",
       "      <td>0.75</td>\n",
       "      <td>1.0</td>\n",
       "      <td>0.25</td>\n",
       "      <td>...</td>\n",
       "      <td>0.0</td>\n",
       "      <td>0.5</td>\n",
       "      <td>0.00</td>\n",
       "      <td>0.0</td>\n",
       "      <td>0.0</td>\n",
       "      <td>0.00</td>\n",
       "      <td>1.00</td>\n",
       "      <td>1.00</td>\n",
       "      <td>0.5</td>\n",
       "      <td>1.00</td>\n",
       "    </tr>\n",
       "    <tr>\n",
       "      <th>n0009793a3b91c27</th>\n",
       "      <td>0.75</td>\n",
       "      <td>0.25</td>\n",
       "      <td>0.50</td>\n",
       "      <td>0.75</td>\n",
       "      <td>1.0</td>\n",
       "      <td>0.0</td>\n",
       "      <td>0.25</td>\n",
       "      <td>0.25</td>\n",
       "      <td>1.0</td>\n",
       "      <td>0.25</td>\n",
       "      <td>...</td>\n",
       "      <td>0.5</td>\n",
       "      <td>0.5</td>\n",
       "      <td>0.25</td>\n",
       "      <td>0.5</td>\n",
       "      <td>1.0</td>\n",
       "      <td>0.25</td>\n",
       "      <td>0.75</td>\n",
       "      <td>0.75</td>\n",
       "      <td>0.5</td>\n",
       "      <td>0.75</td>\n",
       "    </tr>\n",
       "  </tbody>\n",
       "</table>\n",
       "<p>2 rows × 1050 columns</p>\n",
       "</div>"
      ],
      "text/plain": [
       "                  feature_dichasial_hammier_spawner  \\\n",
       "id                                                    \n",
       "n000777698096000                               0.50   \n",
       "n0009793a3b91c27                               0.75   \n",
       "\n",
       "                  feature_rheumy_epistemic_prancer  \\\n",
       "id                                                   \n",
       "n000777698096000                              0.50   \n",
       "n0009793a3b91c27                              0.25   \n",
       "\n",
       "                  feature_pert_performative_hormuz  \\\n",
       "id                                                   \n",
       "n000777698096000                              0.25   \n",
       "n0009793a3b91c27                              0.50   \n",
       "\n",
       "                  feature_hillier_unpitied_theobromine  \\\n",
       "id                                                       \n",
       "n000777698096000                                  0.25   \n",
       "n0009793a3b91c27                                  0.75   \n",
       "\n",
       "                  feature_perigean_bewitching_thruster  \\\n",
       "id                                                       \n",
       "n000777698096000                                   0.0   \n",
       "n0009793a3b91c27                                   1.0   \n",
       "\n",
       "                  feature_renegade_undomestic_milord  \\\n",
       "id                                                     \n",
       "n000777698096000                                 0.0   \n",
       "n0009793a3b91c27                                 0.0   \n",
       "\n",
       "                  feature_koranic_rude_corf  \\\n",
       "id                                            \n",
       "n000777698096000                       0.00   \n",
       "n0009793a3b91c27                       0.25   \n",
       "\n",
       "                  feature_demisable_expiring_millepede  \\\n",
       "id                                                       \n",
       "n000777698096000                                  0.75   \n",
       "n0009793a3b91c27                                  0.25   \n",
       "\n",
       "                  feature_unscheduled_malignant_shingling  \\\n",
       "id                                                          \n",
       "n000777698096000                                      1.0   \n",
       "n0009793a3b91c27                                      1.0   \n",
       "\n",
       "                  feature_clawed_unwept_adaptability  ...  \\\n",
       "id                                                    ...   \n",
       "n000777698096000                                0.25  ...   \n",
       "n0009793a3b91c27                                0.25  ...   \n",
       "\n",
       "                  feature_unpruned_pedagoguish_inkblot  \\\n",
       "id                                                       \n",
       "n000777698096000                                   0.0   \n",
       "n0009793a3b91c27                                   0.5   \n",
       "\n",
       "                  feature_forworn_hask_haet  \\\n",
       "id                                            \n",
       "n000777698096000                        0.5   \n",
       "n0009793a3b91c27                        0.5   \n",
       "\n",
       "                  feature_drawable_exhortative_dispersant  \\\n",
       "id                                                          \n",
       "n000777698096000                                     0.00   \n",
       "n0009793a3b91c27                                     0.25   \n",
       "\n",
       "                  feature_metabolic_minded_armorist  \\\n",
       "id                                                    \n",
       "n000777698096000                                0.0   \n",
       "n0009793a3b91c27                                0.5   \n",
       "\n",
       "                  feature_investigatory_inerasable_circumvallation  \\\n",
       "id                                                                   \n",
       "n000777698096000                                               0.0   \n",
       "n0009793a3b91c27                                               1.0   \n",
       "\n",
       "                  feature_centroclinal_incentive_lancelet  \\\n",
       "id                                                          \n",
       "n000777698096000                                     0.00   \n",
       "n0009793a3b91c27                                     0.25   \n",
       "\n",
       "                  feature_unemotional_quietistic_chirper  \\\n",
       "id                                                         \n",
       "n000777698096000                                    1.00   \n",
       "n0009793a3b91c27                                    0.75   \n",
       "\n",
       "                  feature_behaviorist_microbiological_farina  \\\n",
       "id                                                             \n",
       "n000777698096000                                        1.00   \n",
       "n0009793a3b91c27                                        0.75   \n",
       "\n",
       "                  feature_lofty_acceptable_challenge  \\\n",
       "id                                                     \n",
       "n000777698096000                                 0.5   \n",
       "n0009793a3b91c27                                 0.5   \n",
       "\n",
       "                  feature_coactive_prefatorial_lucy  \n",
       "id                                                   \n",
       "n000777698096000                               1.00  \n",
       "n0009793a3b91c27                               0.75  \n",
       "\n",
       "[2 rows x 1050 columns]"
      ]
     },
     "execution_count": null,
     "metadata": {},
     "output_type": "execute_result"
    }
   ],
   "source": [
    "dataf.get_feature_data.head(2)"
   ]
  },
  {
   "cell_type": "code",
   "execution_count": null,
   "metadata": {},
   "outputs": [
    {
     "data": {
      "text/plain": [
       "[]"
      ]
     },
     "execution_count": null,
     "metadata": {},
     "output_type": "execute_result"
    }
   ],
   "source": [
    "dataf.prediction_cols"
   ]
  },
  {
   "cell_type": "markdown",
   "metadata": {},
   "source": [
    "`aux_cols` are all columns that are not a feature, target or prediction column."
   ]
  },
  {
   "cell_type": "code",
   "execution_count": null,
   "metadata": {},
   "outputs": [
    {
     "data": {
      "text/plain": [
       "['era', 'data_type']"
      ]
     },
     "execution_count": null,
     "metadata": {},
     "output_type": "execute_result"
    }
   ],
   "source": [
    "dataf.aux_cols"
   ]
  },
  {
   "cell_type": "code",
   "execution_count": null,
   "metadata": {},
   "outputs": [
    {
     "data": {
      "text/html": [
       "<div>\n",
       "<style scoped>\n",
       "    .dataframe tbody tr th:only-of-type {\n",
       "        vertical-align: middle;\n",
       "    }\n",
       "\n",
       "    .dataframe tbody tr th {\n",
       "        vertical-align: top;\n",
       "    }\n",
       "\n",
       "    .dataframe thead th {\n",
       "        text-align: right;\n",
       "    }\n",
       "</style>\n",
       "<table border=\"1\" class=\"dataframe\">\n",
       "  <thead>\n",
       "    <tr style=\"text-align: right;\">\n",
       "      <th></th>\n",
       "      <th>era</th>\n",
       "      <th>data_type</th>\n",
       "    </tr>\n",
       "    <tr>\n",
       "      <th>id</th>\n",
       "      <th></th>\n",
       "      <th></th>\n",
       "    </tr>\n",
       "  </thead>\n",
       "  <tbody>\n",
       "    <tr>\n",
       "      <th>n000777698096000</th>\n",
       "      <td>0857</td>\n",
       "      <td>validation</td>\n",
       "    </tr>\n",
       "    <tr>\n",
       "      <th>n0009793a3b91c27</th>\n",
       "      <td>0857</td>\n",
       "      <td>validation</td>\n",
       "    </tr>\n",
       "  </tbody>\n",
       "</table>\n",
       "</div>"
      ],
      "text/plain": [
       "                   era   data_type\n",
       "id                                \n",
       "n000777698096000  0857  validation\n",
       "n0009793a3b91c27  0857  validation"
      ]
     },
     "execution_count": null,
     "metadata": {},
     "output_type": "execute_result"
    }
   ],
   "source": [
    "dataf.get_aux_data.head(2)"
   ]
  },
  {
   "cell_type": "code",
   "execution_count": null,
   "metadata": {},
   "outputs": [
    {
     "data": {
      "text/html": [
       "<div>\n",
       "<style scoped>\n",
       "    .dataframe tbody tr th:only-of-type {\n",
       "        vertical-align: middle;\n",
       "    }\n",
       "\n",
       "    .dataframe tbody tr th {\n",
       "        vertical-align: top;\n",
       "    }\n",
       "\n",
       "    .dataframe thead th {\n",
       "        text-align: right;\n",
       "    }\n",
       "</style>\n",
       "<table border=\"1\" class=\"dataframe\">\n",
       "  <thead>\n",
       "    <tr style=\"text-align: right;\">\n",
       "      <th></th>\n",
       "    </tr>\n",
       "    <tr>\n",
       "      <th>id</th>\n",
       "    </tr>\n",
       "  </thead>\n",
       "  <tbody>\n",
       "    <tr>\n",
       "      <th>n000777698096000</th>\n",
       "    </tr>\n",
       "    <tr>\n",
       "      <th>n0009793a3b91c27</th>\n",
       "    </tr>\n",
       "  </tbody>\n",
       "</table>\n",
       "</div>"
      ],
      "text/plain": [
       "Empty NumerFrame\n",
       "Columns: []\n",
       "Index: [n000777698096000, n0009793a3b91c27]"
      ]
     },
     "execution_count": null,
     "metadata": {},
     "output_type": "execute_result"
    }
   ],
   "source": [
    "dataf.get_prediction_data.head(2)"
   ]
  },
  {
   "cell_type": "code",
   "execution_count": null,
   "metadata": {},
   "outputs": [
    {
     "data": {
      "text/plain": [
       "'era'"
      ]
     },
     "execution_count": null,
     "metadata": {},
     "output_type": "execute_result"
    }
   ],
   "source": [
    "dataf.meta.era_col"
   ]
  },
  {
   "cell_type": "markdown",
   "metadata": {},
   "source": [
    "A split of features and target(s) can be retrieved in 1 line of code."
   ]
  },
  {
   "cell_type": "code",
   "execution_count": null,
   "metadata": {},
   "outputs": [],
   "source": [
    "X, y = dataf.get_feature_target_pair(multi_target=True)"
   ]
  },
  {
   "cell_type": "code",
   "execution_count": null,
   "metadata": {},
   "outputs": [
    {
     "data": {
      "text/html": [
       "<div>\n",
       "<style scoped>\n",
       "    .dataframe tbody tr th:only-of-type {\n",
       "        vertical-align: middle;\n",
       "    }\n",
       "\n",
       "    .dataframe tbody tr th {\n",
       "        vertical-align: top;\n",
       "    }\n",
       "\n",
       "    .dataframe thead th {\n",
       "        text-align: right;\n",
       "    }\n",
       "</style>\n",
       "<table border=\"1\" class=\"dataframe\">\n",
       "  <thead>\n",
       "    <tr style=\"text-align: right;\">\n",
       "      <th></th>\n",
       "      <th>feature_dichasial_hammier_spawner</th>\n",
       "      <th>feature_rheumy_epistemic_prancer</th>\n",
       "      <th>feature_pert_performative_hormuz</th>\n",
       "      <th>feature_hillier_unpitied_theobromine</th>\n",
       "      <th>feature_perigean_bewitching_thruster</th>\n",
       "      <th>feature_renegade_undomestic_milord</th>\n",
       "      <th>feature_koranic_rude_corf</th>\n",
       "      <th>feature_demisable_expiring_millepede</th>\n",
       "      <th>feature_unscheduled_malignant_shingling</th>\n",
       "      <th>feature_clawed_unwept_adaptability</th>\n",
       "      <th>...</th>\n",
       "      <th>feature_unpruned_pedagoguish_inkblot</th>\n",
       "      <th>feature_forworn_hask_haet</th>\n",
       "      <th>feature_drawable_exhortative_dispersant</th>\n",
       "      <th>feature_metabolic_minded_armorist</th>\n",
       "      <th>feature_investigatory_inerasable_circumvallation</th>\n",
       "      <th>feature_centroclinal_incentive_lancelet</th>\n",
       "      <th>feature_unemotional_quietistic_chirper</th>\n",
       "      <th>feature_behaviorist_microbiological_farina</th>\n",
       "      <th>feature_lofty_acceptable_challenge</th>\n",
       "      <th>feature_coactive_prefatorial_lucy</th>\n",
       "    </tr>\n",
       "    <tr>\n",
       "      <th>id</th>\n",
       "      <th></th>\n",
       "      <th></th>\n",
       "      <th></th>\n",
       "      <th></th>\n",
       "      <th></th>\n",
       "      <th></th>\n",
       "      <th></th>\n",
       "      <th></th>\n",
       "      <th></th>\n",
       "      <th></th>\n",
       "      <th></th>\n",
       "      <th></th>\n",
       "      <th></th>\n",
       "      <th></th>\n",
       "      <th></th>\n",
       "      <th></th>\n",
       "      <th></th>\n",
       "      <th></th>\n",
       "      <th></th>\n",
       "      <th></th>\n",
       "      <th></th>\n",
       "    </tr>\n",
       "  </thead>\n",
       "  <tbody>\n",
       "    <tr>\n",
       "      <th>n000777698096000</th>\n",
       "      <td>0.50</td>\n",
       "      <td>0.50</td>\n",
       "      <td>0.25</td>\n",
       "      <td>0.25</td>\n",
       "      <td>0.0</td>\n",
       "      <td>0.0</td>\n",
       "      <td>0.00</td>\n",
       "      <td>0.75</td>\n",
       "      <td>1.0</td>\n",
       "      <td>0.25</td>\n",
       "      <td>...</td>\n",
       "      <td>0.0</td>\n",
       "      <td>0.5</td>\n",
       "      <td>0.00</td>\n",
       "      <td>0.0</td>\n",
       "      <td>0.0</td>\n",
       "      <td>0.00</td>\n",
       "      <td>1.00</td>\n",
       "      <td>1.00</td>\n",
       "      <td>0.5</td>\n",
       "      <td>1.00</td>\n",
       "    </tr>\n",
       "    <tr>\n",
       "      <th>n0009793a3b91c27</th>\n",
       "      <td>0.75</td>\n",
       "      <td>0.25</td>\n",
       "      <td>0.50</td>\n",
       "      <td>0.75</td>\n",
       "      <td>1.0</td>\n",
       "      <td>0.0</td>\n",
       "      <td>0.25</td>\n",
       "      <td>0.25</td>\n",
       "      <td>1.0</td>\n",
       "      <td>0.25</td>\n",
       "      <td>...</td>\n",
       "      <td>0.5</td>\n",
       "      <td>0.5</td>\n",
       "      <td>0.25</td>\n",
       "      <td>0.5</td>\n",
       "      <td>1.0</td>\n",
       "      <td>0.25</td>\n",
       "      <td>0.75</td>\n",
       "      <td>0.75</td>\n",
       "      <td>0.5</td>\n",
       "      <td>0.75</td>\n",
       "    </tr>\n",
       "  </tbody>\n",
       "</table>\n",
       "<p>2 rows × 1050 columns</p>\n",
       "</div>"
      ],
      "text/plain": [
       "                  feature_dichasial_hammier_spawner  \\\n",
       "id                                                    \n",
       "n000777698096000                               0.50   \n",
       "n0009793a3b91c27                               0.75   \n",
       "\n",
       "                  feature_rheumy_epistemic_prancer  \\\n",
       "id                                                   \n",
       "n000777698096000                              0.50   \n",
       "n0009793a3b91c27                              0.25   \n",
       "\n",
       "                  feature_pert_performative_hormuz  \\\n",
       "id                                                   \n",
       "n000777698096000                              0.25   \n",
       "n0009793a3b91c27                              0.50   \n",
       "\n",
       "                  feature_hillier_unpitied_theobromine  \\\n",
       "id                                                       \n",
       "n000777698096000                                  0.25   \n",
       "n0009793a3b91c27                                  0.75   \n",
       "\n",
       "                  feature_perigean_bewitching_thruster  \\\n",
       "id                                                       \n",
       "n000777698096000                                   0.0   \n",
       "n0009793a3b91c27                                   1.0   \n",
       "\n",
       "                  feature_renegade_undomestic_milord  \\\n",
       "id                                                     \n",
       "n000777698096000                                 0.0   \n",
       "n0009793a3b91c27                                 0.0   \n",
       "\n",
       "                  feature_koranic_rude_corf  \\\n",
       "id                                            \n",
       "n000777698096000                       0.00   \n",
       "n0009793a3b91c27                       0.25   \n",
       "\n",
       "                  feature_demisable_expiring_millepede  \\\n",
       "id                                                       \n",
       "n000777698096000                                  0.75   \n",
       "n0009793a3b91c27                                  0.25   \n",
       "\n",
       "                  feature_unscheduled_malignant_shingling  \\\n",
       "id                                                          \n",
       "n000777698096000                                      1.0   \n",
       "n0009793a3b91c27                                      1.0   \n",
       "\n",
       "                  feature_clawed_unwept_adaptability  ...  \\\n",
       "id                                                    ...   \n",
       "n000777698096000                                0.25  ...   \n",
       "n0009793a3b91c27                                0.25  ...   \n",
       "\n",
       "                  feature_unpruned_pedagoguish_inkblot  \\\n",
       "id                                                       \n",
       "n000777698096000                                   0.0   \n",
       "n0009793a3b91c27                                   0.5   \n",
       "\n",
       "                  feature_forworn_hask_haet  \\\n",
       "id                                            \n",
       "n000777698096000                        0.5   \n",
       "n0009793a3b91c27                        0.5   \n",
       "\n",
       "                  feature_drawable_exhortative_dispersant  \\\n",
       "id                                                          \n",
       "n000777698096000                                     0.00   \n",
       "n0009793a3b91c27                                     0.25   \n",
       "\n",
       "                  feature_metabolic_minded_armorist  \\\n",
       "id                                                    \n",
       "n000777698096000                                0.0   \n",
       "n0009793a3b91c27                                0.5   \n",
       "\n",
       "                  feature_investigatory_inerasable_circumvallation  \\\n",
       "id                                                                   \n",
       "n000777698096000                                               0.0   \n",
       "n0009793a3b91c27                                               1.0   \n",
       "\n",
       "                  feature_centroclinal_incentive_lancelet  \\\n",
       "id                                                          \n",
       "n000777698096000                                     0.00   \n",
       "n0009793a3b91c27                                     0.25   \n",
       "\n",
       "                  feature_unemotional_quietistic_chirper  \\\n",
       "id                                                         \n",
       "n000777698096000                                    1.00   \n",
       "n0009793a3b91c27                                    0.75   \n",
       "\n",
       "                  feature_behaviorist_microbiological_farina  \\\n",
       "id                                                             \n",
       "n000777698096000                                        1.00   \n",
       "n0009793a3b91c27                                        0.75   \n",
       "\n",
       "                  feature_lofty_acceptable_challenge  \\\n",
       "id                                                     \n",
       "n000777698096000                                 0.5   \n",
       "n0009793a3b91c27                                 0.5   \n",
       "\n",
       "                  feature_coactive_prefatorial_lucy  \n",
       "id                                                   \n",
       "n000777698096000                               1.00  \n",
       "n0009793a3b91c27                               0.75  \n",
       "\n",
       "[2 rows x 1050 columns]"
      ]
     },
     "execution_count": null,
     "metadata": {},
     "output_type": "execute_result"
    }
   ],
   "source": [
    "X.head(2)"
   ]
  },
  {
   "cell_type": "code",
   "execution_count": null,
   "metadata": {},
   "outputs": [
    {
     "data": {
      "text/html": [
       "<div>\n",
       "<style scoped>\n",
       "    .dataframe tbody tr th:only-of-type {\n",
       "        vertical-align: middle;\n",
       "    }\n",
       "\n",
       "    .dataframe tbody tr th {\n",
       "        vertical-align: top;\n",
       "    }\n",
       "\n",
       "    .dataframe thead th {\n",
       "        text-align: right;\n",
       "    }\n",
       "</style>\n",
       "<table border=\"1\" class=\"dataframe\">\n",
       "  <thead>\n",
       "    <tr style=\"text-align: right;\">\n",
       "      <th></th>\n",
       "      <th>target</th>\n",
       "      <th>target_nomi_20</th>\n",
       "      <th>target_nomi_60</th>\n",
       "      <th>target_jerome_20</th>\n",
       "      <th>target_jerome_60</th>\n",
       "      <th>target_janet_20</th>\n",
       "      <th>target_janet_60</th>\n",
       "      <th>target_ben_20</th>\n",
       "      <th>target_ben_60</th>\n",
       "      <th>target_alan_20</th>\n",
       "      <th>...</th>\n",
       "      <th>target_paul_20</th>\n",
       "      <th>target_paul_60</th>\n",
       "      <th>target_george_20</th>\n",
       "      <th>target_george_60</th>\n",
       "      <th>target_william_20</th>\n",
       "      <th>target_william_60</th>\n",
       "      <th>target_arthur_20</th>\n",
       "      <th>target_arthur_60</th>\n",
       "      <th>target_thomas_20</th>\n",
       "      <th>target_thomas_60</th>\n",
       "    </tr>\n",
       "    <tr>\n",
       "      <th>id</th>\n",
       "      <th></th>\n",
       "      <th></th>\n",
       "      <th></th>\n",
       "      <th></th>\n",
       "      <th></th>\n",
       "      <th></th>\n",
       "      <th></th>\n",
       "      <th></th>\n",
       "      <th></th>\n",
       "      <th></th>\n",
       "      <th></th>\n",
       "      <th></th>\n",
       "      <th></th>\n",
       "      <th></th>\n",
       "      <th></th>\n",
       "      <th></th>\n",
       "      <th></th>\n",
       "      <th></th>\n",
       "      <th></th>\n",
       "      <th></th>\n",
       "      <th></th>\n",
       "    </tr>\n",
       "  </thead>\n",
       "  <tbody>\n",
       "    <tr>\n",
       "      <th>n000777698096000</th>\n",
       "      <td>0.25</td>\n",
       "      <td>0.25</td>\n",
       "      <td>0.50</td>\n",
       "      <td>0.25</td>\n",
       "      <td>0.50</td>\n",
       "      <td>0.25</td>\n",
       "      <td>0.50</td>\n",
       "      <td>0.25</td>\n",
       "      <td>0.5</td>\n",
       "      <td>0.25</td>\n",
       "      <td>...</td>\n",
       "      <td>0.25</td>\n",
       "      <td>0.5</td>\n",
       "      <td>0.25</td>\n",
       "      <td>0.5</td>\n",
       "      <td>0.166667</td>\n",
       "      <td>0.500000</td>\n",
       "      <td>0.166667</td>\n",
       "      <td>0.500000</td>\n",
       "      <td>0.166667</td>\n",
       "      <td>0.5</td>\n",
       "    </tr>\n",
       "    <tr>\n",
       "      <th>n0009793a3b91c27</th>\n",
       "      <td>0.50</td>\n",
       "      <td>0.50</td>\n",
       "      <td>0.75</td>\n",
       "      <td>0.50</td>\n",
       "      <td>0.75</td>\n",
       "      <td>0.50</td>\n",
       "      <td>0.75</td>\n",
       "      <td>0.50</td>\n",
       "      <td>0.5</td>\n",
       "      <td>0.50</td>\n",
       "      <td>...</td>\n",
       "      <td>0.50</td>\n",
       "      <td>0.5</td>\n",
       "      <td>0.50</td>\n",
       "      <td>0.5</td>\n",
       "      <td>0.666667</td>\n",
       "      <td>0.833333</td>\n",
       "      <td>0.666667</td>\n",
       "      <td>0.833333</td>\n",
       "      <td>0.500000</td>\n",
       "      <td>0.5</td>\n",
       "    </tr>\n",
       "  </tbody>\n",
       "</table>\n",
       "<p>2 rows × 21 columns</p>\n",
       "</div>"
      ],
      "text/plain": [
       "                  target  target_nomi_20  target_nomi_60  target_jerome_20  \\\n",
       "id                                                                           \n",
       "n000777698096000    0.25            0.25            0.50              0.25   \n",
       "n0009793a3b91c27    0.50            0.50            0.75              0.50   \n",
       "\n",
       "                  target_jerome_60  target_janet_20  target_janet_60  \\\n",
       "id                                                                     \n",
       "n000777698096000              0.50             0.25             0.50   \n",
       "n0009793a3b91c27              0.75             0.50             0.75   \n",
       "\n",
       "                  target_ben_20  target_ben_60  target_alan_20  ...  \\\n",
       "id                                                              ...   \n",
       "n000777698096000           0.25            0.5            0.25  ...   \n",
       "n0009793a3b91c27           0.50            0.5            0.50  ...   \n",
       "\n",
       "                  target_paul_20  target_paul_60  target_george_20  \\\n",
       "id                                                                   \n",
       "n000777698096000            0.25             0.5              0.25   \n",
       "n0009793a3b91c27            0.50             0.5              0.50   \n",
       "\n",
       "                  target_george_60  target_william_20  target_william_60  \\\n",
       "id                                                                         \n",
       "n000777698096000               0.5           0.166667           0.500000   \n",
       "n0009793a3b91c27               0.5           0.666667           0.833333   \n",
       "\n",
       "                  target_arthur_20  target_arthur_60  target_thomas_20  \\\n",
       "id                                                                       \n",
       "n000777698096000          0.166667          0.500000          0.166667   \n",
       "n0009793a3b91c27          0.666667          0.833333          0.500000   \n",
       "\n",
       "                  target_thomas_60  \n",
       "id                                  \n",
       "n000777698096000               0.5  \n",
       "n0009793a3b91c27               0.5  \n",
       "\n",
       "[2 rows x 21 columns]"
      ]
     },
     "execution_count": null,
     "metadata": {},
     "output_type": "execute_result"
    }
   ],
   "source": [
    "y.head(2)"
   ]
  },
  {
   "cell_type": "markdown",
   "metadata": {},
   "source": [
    "### Custom TensorFlow generator\n",
    "\n",
    "To illustrate a practical example, we will build a Tensorflow DataGenerator that returns a batch containing feature and target for 1 or multiple eras. Features and targets columns will be found automatically if not specified."
   ]
  },
  {
   "cell_type": "code",
   "execution_count": null,
   "metadata": {},
   "outputs": [
    {
     "name": "stderr",
     "output_type": "stream",
     "text": [
      "2023-09-04 12:15:37.577725: I tensorflow/core/platform/cpu_feature_guard.cc:193] This TensorFlow binary is optimized with oneAPI Deep Neural Network Library (oneDNN) to use the following CPU instructions in performance-critical operations:  AVX2 FMA\n",
      "To enable them in other operations, rebuild TensorFlow with the appropriate compiler flags.\n",
      "2023-09-04 12:15:37.742138: E tensorflow/stream_executor/cuda/cuda_blas.cc:2981] Unable to register cuBLAS factory: Attempting to register factory for plugin cuBLAS when one has already been registered\n",
      "2023-09-04 12:15:38.397113: W tensorflow/stream_executor/platform/default/dso_loader.cc:64] Could not load dynamic library 'libnvinfer.so.7'; dlerror: libnvinfer.so.7: cannot open shared object file: No such file or directory; LD_LIBRARY_PATH: :/opt/miniconda3/envs/classic_prod/lib/\n",
      "2023-09-04 12:15:38.397242: W tensorflow/stream_executor/platform/default/dso_loader.cc:64] Could not load dynamic library 'libnvinfer_plugin.so.7'; dlerror: libnvinfer_plugin.so.7: cannot open shared object file: No such file or directory; LD_LIBRARY_PATH: :/opt/miniconda3/envs/classic_prod/lib/\n",
      "2023-09-04 12:15:38.397253: W tensorflow/compiler/tf2tensorrt/utils/py_utils.cc:38] TF-TRT Warning: Cannot dlopen some TensorRT libraries. If you would like to use Nvidia GPU with TensorRT, please make sure the missing libraries mentioned above are installed properly.\n"
     ]
    }
   ],
   "source": [
    "import numpy as np\n",
    "import tensorflow as tf\n",
    "from typing import Tuple\n",
    "\n",
    "class TFGenerator(tf.keras.utils.Sequence):\n",
    "    \"\"\"\n",
    "    Tensorflow generator for Numerai era batches.\n",
    "    :param dataf: A NumerFrame\n",
    "    :param features: Features to select. All by default.\n",
    "    :param targets: Targets to select. All by default.\n",
    "    :param n_eras_batch: How many eras per batch.\n",
    "    :param shuffle: Shuffle eras of not.\n",
    "    \"\"\"\n",
    "    def __init__(self, dataf: NumerFrame,\n",
    "                 features: list = None,\n",
    "                 targets: list = None,\n",
    "                 n_eras_batch=1,\n",
    "                 shuffle=True):\n",
    "        self.dataf = dataf\n",
    "        self.features, self.targets = features, targets\n",
    "        self.n_eras_batch = n_eras_batch\n",
    "        self.shuffle = shuffle\n",
    "        self.eras = dataf[dataf.meta.era_col].unique()\n",
    "        self.on_epoch_end()\n",
    "\n",
    "    def __len__(self):\n",
    "        return int(np.ceil(len(self.eras) / self.n_eras_batch))\n",
    "\n",
    "    def on_epoch_end(self):\n",
    "        np.random.shuffle(self.eras) if self.shuffle else ...\n",
    "\n",
    "    def __getitem__(self, idx: int) -> Tuple[tf.Tensor, tf.Tensor]:\n",
    "        eras = self.eras[idx:idx+self.n_eras_batch]\n",
    "        return dataf.get_era_batch(eras=eras,\n",
    "                                   targets=self.targets,\n",
    "                                   features=self.features,\n",
    "                                   convert_to_tf=True\n",
    "                                   )"
   ]
  },
  {
   "cell_type": "markdown",
   "metadata": {},
   "source": [
    "Note that `NumerFrame` has its own method for getting batches of eras. It can therefore be implemented with one line for a new generator. If features and targets are not specified it will automatically retrieve all features and targets in the `NumerFrame`."
   ]
  },
  {
   "cell_type": "code",
   "execution_count": null,
   "metadata": {},
   "outputs": [
    {
     "data": {
      "text/markdown": [
       "---\n",
       "\n",
       "[source](https://github.com/crowdcent/numerblox/blob/master/numerblox/numerframe.py#LNone){target=\"_blank\" style=\"float:right; font-size:smaller\"}\n",
       "\n",
       "### NumerFrame.get_era_batch\n",
       "\n",
       ">      NumerFrame.get_era_batch (eras:List[Any], convert_to_tf=False,\n",
       ">                                aemlp_batch=False, features:list=None,\n",
       ">                                targets:list=None, *args, **kwargs)\n",
       "\n",
       "Get feature target pair batch of 1 or multiple eras. \n",
       "\n",
       ":param eras: Selection of era names that should be present in era_col. \n",
       "\n",
       ":param convert_to_tf: Convert to tf.Tensor. \n",
       "\n",
       ":param aemlp_batch: Specific target batch for autoencoder training. \n",
       "\n",
       "`y` output will contain three components: features, targets and targets. \n",
       "\n",
       ":param features: List of features to select. All by default \n",
       "\n",
       ":param targets: List of targets to select. All by default. \n",
       "\n",
       "*args, **kwargs are passed to initialization of Tensor."
      ],
      "text/plain": [
       "---\n",
       "\n",
       "[source](https://github.com/crowdcent/numerblox/blob/master/numerblox/numerframe.py#LNone){target=\"_blank\" style=\"float:right; font-size:smaller\"}\n",
       "\n",
       "### NumerFrame.get_era_batch\n",
       "\n",
       ">      NumerFrame.get_era_batch (eras:List[Any], convert_to_tf=False,\n",
       ">                                aemlp_batch=False, features:list=None,\n",
       ">                                targets:list=None, *args, **kwargs)\n",
       "\n",
       "Get feature target pair batch of 1 or multiple eras. \n",
       "\n",
       ":param eras: Selection of era names that should be present in era_col. \n",
       "\n",
       ":param convert_to_tf: Convert to tf.Tensor. \n",
       "\n",
       ":param aemlp_batch: Specific target batch for autoencoder training. \n",
       "\n",
       "`y` output will contain three components: features, targets and targets. \n",
       "\n",
       ":param features: List of features to select. All by default \n",
       "\n",
       ":param targets: List of targets to select. All by default. \n",
       "\n",
       "*args, **kwargs are passed to initialization of Tensor."
      ]
     },
     "execution_count": null,
     "metadata": {},
     "output_type": "execute_result"
    }
   ],
   "source": [
    "#| echo: false\n",
    "show_doc(dataf.get_era_batch)"
   ]
  },
  {
   "cell_type": "markdown",
   "metadata": {},
   "source": [
    "We can now use this generator for TensorFlow model training, evaluation and inference. This example shows how to get batches of 2 eras each for both nomi targets."
   ]
  },
  {
   "cell_type": "code",
   "execution_count": null,
   "metadata": {},
   "outputs": [
    {
     "name": "stdout",
     "output_type": "stream",
     "text": [
      "Total era batches: 53\n"
     ]
    },
    {
     "name": "stderr",
     "output_type": "stream",
     "text": [
      "2023-09-04 12:15:40.045162: E tensorflow/stream_executor/cuda/cuda_driver.cc:265] failed call to cuInit: CUDA_ERROR_NO_DEVICE: no CUDA-capable device is detected\n",
      "2023-09-04 12:15:40.045218: I tensorflow/stream_executor/cuda/cuda_diagnostics.cc:156] kernel driver does not appear to be running on this host (numerai-training): /proc/driver/nvidia/version does not exist\n",
      "2023-09-04 12:15:40.047187: I tensorflow/core/platform/cpu_feature_guard.cc:193] This TensorFlow binary is optimized with oneAPI Deep Neural Network Library (oneDNN) to use the following CPU instructions in performance-critical operations:  AVX2 FMA\n",
      "To enable them in other operations, rebuild TensorFlow with the appropriate compiler flags.\n"
     ]
    }
   ],
   "source": [
    "gen = TFGenerator(dataf=dataf, n_eras_batch=2, targets=['target_nomi_20', 'target_nomi_60'])\n",
    "print(f\"Total era batches: {len(gen)}\")\n",
    "X, y = gen[0]"
   ]
  },
  {
   "cell_type": "code",
   "execution_count": null,
   "metadata": {},
   "outputs": [
    {
     "data": {
      "text/plain": [
       "<tf.Tensor: shape=(9920, 1050), dtype=float32, numpy=\n",
       "array([[0.5 , 0.  , 1.  , ..., 0.5 , 1.  , 0.  ],\n",
       "       [0.75, 0.5 , 1.  , ..., 0.  , 0.25, 0.  ],\n",
       "       [0.5 , 0.75, 0.  , ..., 1.  , 0.75, 1.  ],\n",
       "       ...,\n",
       "       [0.  , 0.5 , 0.5 , ..., 0.75, 0.75, 0.75],\n",
       "       [1.  , 1.  , 0.  , ..., 0.  , 0.  , 0.  ],\n",
       "       [1.  , 0.75, 0.75, ..., 0.75, 0.25, 0.5 ]], dtype=float32)>"
      ]
     },
     "execution_count": null,
     "metadata": {},
     "output_type": "execute_result"
    }
   ],
   "source": [
    "X"
   ]
  },
  {
   "cell_type": "code",
   "execution_count": null,
   "metadata": {},
   "outputs": [
    {
     "data": {
      "text/plain": [
       "<tf.Tensor: shape=(9920, 2), dtype=float32, numpy=\n",
       "array([[0.75, 0.5 ],\n",
       "       [0.5 , 0.5 ],\n",
       "       [0.5 , 0.5 ],\n",
       "       ...,\n",
       "       [0.5 , 0.5 ],\n",
       "       [0.75, 1.  ],\n",
       "       [0.25, 0.25]], dtype=float32)>"
      ]
     },
     "execution_count": null,
     "metadata": {},
     "output_type": "execute_result"
    }
   ],
   "source": [
    "y"
   ]
  },
  {
   "cell_type": "markdown",
   "metadata": {},
   "source": [
    "In this tutorial we have created a flexible Tensorflow generator leveraging convenient properties of `NumerFrame`. `NumerFrame` will automatically recognize features, targets and prediction columns, provides tested code for splitting data, has an implementation to get batches of eras and makes sure our era column is correct."
   ]
  },
  {
   "cell_type": "markdown",
   "metadata": {},
   "source": [
    "------------------------------------------------------"
   ]
  },
  {
   "cell_type": "markdown",
   "metadata": {},
   "source": [
    "After we are done we can easily clean up our downloaded data with one line of code called from the downloader."
   ]
  },
  {
   "cell_type": "code",
   "execution_count": null,
   "metadata": {},
   "outputs": [
    {
     "data": {
      "text/html": [
       "<pre style=\"white-space:pre;overflow-x:auto;line-height:normal;font-family:Menlo,'DejaVu Sans Mono',consolas,'Courier New',monospace\">⚠ <span style=\"color: #800000; text-decoration-color: #800000\">Deleting directory for </span><span style=\"color: #800000; text-decoration-color: #800000\">'NumeraiClassicDownloader</span><span style=\"color: #008000; text-decoration-color: #008000\">'</span> ⚠\n",
       "Path: <span style=\"color: #008000; text-decoration-color: #008000\">'/home/clepelaars/numerblox/nbs/edu_nbs/numerframe_edu'</span>\n",
       "</pre>\n"
      ],
      "text/plain": [
       "⚠ \u001b[31mDeleting directory for \u001b[0m\u001b[31m'NumeraiClassicDownloader\u001b[0m\u001b[32m'\u001b[0m ⚠\n",
       "Path: \u001b[32m'/home/clepelaars/numerblox/nbs/edu_nbs/numerframe_edu'\u001b[0m\n"
      ]
     },
     "metadata": {},
     "output_type": "display_data"
    }
   ],
   "source": [
    "# Clean up environment\n",
    "downloader.remove_base_directory()"
   ]
  }
 ],
 "metadata": {
  "kernelspec": {
   "display_name": "python3",
   "language": "python",
   "name": "python3"
  }
 },
 "nbformat": 4,
 "nbformat_minor": 0
}
