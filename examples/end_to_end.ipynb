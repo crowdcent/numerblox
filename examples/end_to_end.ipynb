{
 "cells": [
  {
   "cell_type": "markdown",
   "metadata": {},
   "source": [
    "# End To End"
   ]
  },
  {
   "cell_type": "markdown",
   "metadata": {},
   "source": [
    "This notebook features some examples on some advanced end to end pipeline that really leverage NumerBlox's power. Consider this a testing ground on how well it integrates with sklearn and associated libraries."
   ]
  },
  {
   "cell_type": "code",
   "execution_count": 1,
   "metadata": {},
   "outputs": [],
   "source": [
    "from xgboost import XGBRegressor\n",
    "from sklearn.tree import DecisionTreeClassifier\n",
    "from sklego.preprocessing import ColumnSelector\n",
    "from sklearn.model_selection import TimeSeriesSplit\n",
    "from sklearn.pipeline import make_pipeline, make_union\n",
    "from sklearn.compose import TransformedTargetRegressor\n",
    "\n",
    "from numerblox.preprocessing import GroupStatsPreProcessor\n",
    "from numerblox.meta import CrossValEstimator, make_meta_pipeline\n",
    "from numerblox.ensemble import NumeraiEnsemble, PredictionReducer\n",
    "from numerblox.neutralizers import FeatureNeutralizer"
   ]
  },
  {
   "cell_type": "markdown",
   "metadata": {},
   "source": [
    "## 0. Get data"
   ]
  },
  {
   "cell_type": "code",
   "execution_count": 2,
   "metadata": {},
   "outputs": [],
   "source": [
    "from numerblox.numerframe import create_numerframe\n",
    "\n",
    "df = create_numerframe(\"../tests/test_assets/train_int8_5_eras.parquet\")"
   ]
  },
  {
   "cell_type": "code",
   "execution_count": 3,
   "metadata": {},
   "outputs": [],
   "source": [
    "X, y = df.get_feature_target_pair(multi_target=False)\n",
    "fncv3_cols = df.get_fncv3_features.columns.tolist()\n",
    "eras = df.get_era_data\n",
    "features = df.get_feature_data"
   ]
  },
  {
   "cell_type": "markdown",
   "metadata": {},
   "source": [
    "## 1. Weighted XGBoost ensemble pipeline with feature neutralization."
   ]
  },
  {
   "cell_type": "code",
   "execution_count": 4,
   "metadata": {},
   "outputs": [],
   "source": [
    "# !pip install xgboost sklego"
   ]
  },
  {
   "cell_type": "code",
   "execution_count": 5,
   "metadata": {},
   "outputs": [
    {
     "data": {
      "text/html": [
       "<style>#sk-container-id-1 {color: black;}#sk-container-id-1 pre{padding: 0;}#sk-container-id-1 div.sk-toggleable {background-color: white;}#sk-container-id-1 label.sk-toggleable__label {cursor: pointer;display: block;width: 100%;margin-bottom: 0;padding: 0.3em;box-sizing: border-box;text-align: center;}#sk-container-id-1 label.sk-toggleable__label-arrow:before {content: \"▸\";float: left;margin-right: 0.25em;color: #696969;}#sk-container-id-1 label.sk-toggleable__label-arrow:hover:before {color: black;}#sk-container-id-1 div.sk-estimator:hover label.sk-toggleable__label-arrow:before {color: black;}#sk-container-id-1 div.sk-toggleable__content {max-height: 0;max-width: 0;overflow: hidden;text-align: left;background-color: #f0f8ff;}#sk-container-id-1 div.sk-toggleable__content pre {margin: 0.2em;color: black;border-radius: 0.25em;background-color: #f0f8ff;}#sk-container-id-1 input.sk-toggleable__control:checked~div.sk-toggleable__content {max-height: 200px;max-width: 100%;overflow: auto;}#sk-container-id-1 input.sk-toggleable__control:checked~label.sk-toggleable__label-arrow:before {content: \"▾\";}#sk-container-id-1 div.sk-estimator input.sk-toggleable__control:checked~label.sk-toggleable__label {background-color: #d4ebff;}#sk-container-id-1 div.sk-label input.sk-toggleable__control:checked~label.sk-toggleable__label {background-color: #d4ebff;}#sk-container-id-1 input.sk-hidden--visually {border: 0;clip: rect(1px 1px 1px 1px);clip: rect(1px, 1px, 1px, 1px);height: 1px;margin: -1px;overflow: hidden;padding: 0;position: absolute;width: 1px;}#sk-container-id-1 div.sk-estimator {font-family: monospace;background-color: #f0f8ff;border: 1px dotted black;border-radius: 0.25em;box-sizing: border-box;margin-bottom: 0.5em;}#sk-container-id-1 div.sk-estimator:hover {background-color: #d4ebff;}#sk-container-id-1 div.sk-parallel-item::after {content: \"\";width: 100%;border-bottom: 1px solid gray;flex-grow: 1;}#sk-container-id-1 div.sk-label:hover label.sk-toggleable__label {background-color: #d4ebff;}#sk-container-id-1 div.sk-serial::before {content: \"\";position: absolute;border-left: 1px solid gray;box-sizing: border-box;top: 0;bottom: 0;left: 50%;z-index: 0;}#sk-container-id-1 div.sk-serial {display: flex;flex-direction: column;align-items: center;background-color: white;padding-right: 0.2em;padding-left: 0.2em;position: relative;}#sk-container-id-1 div.sk-item {position: relative;z-index: 1;}#sk-container-id-1 div.sk-parallel {display: flex;align-items: stretch;justify-content: center;background-color: white;position: relative;}#sk-container-id-1 div.sk-item::before, #sk-container-id-1 div.sk-parallel-item::before {content: \"\";position: absolute;border-left: 1px solid gray;box-sizing: border-box;top: 0;bottom: 0;left: 50%;z-index: -1;}#sk-container-id-1 div.sk-parallel-item {display: flex;flex-direction: column;z-index: 1;position: relative;background-color: white;}#sk-container-id-1 div.sk-parallel-item:first-child::after {align-self: flex-end;width: 50%;}#sk-container-id-1 div.sk-parallel-item:last-child::after {align-self: flex-start;width: 50%;}#sk-container-id-1 div.sk-parallel-item:only-child::after {width: 0;}#sk-container-id-1 div.sk-dashed-wrapped {border: 1px dashed gray;margin: 0 0.4em 0.5em 0.4em;box-sizing: border-box;padding-bottom: 0.4em;background-color: white;}#sk-container-id-1 div.sk-label label {font-family: monospace;font-weight: bold;display: inline-block;line-height: 1.2em;}#sk-container-id-1 div.sk-label-container {text-align: center;}#sk-container-id-1 div.sk-container {/* jupyter's `normalize.less` sets `[hidden] { display: none; }` but bootstrap.min.css set `[hidden] { display: none !important; }` so we also need the `!important` here to be able to override the default hidden behavior on the sphinx rendered scikit-learn.org. See: https://github.com/scikit-learn/scikit-learn/issues/21755 */display: inline-block !important;position: relative;}#sk-container-id-1 div.sk-text-repr-fallback {display: none;}</style><div id=\"sk-container-id-1\" class=\"sk-top-container\"><div class=\"sk-text-repr-fallback\"><pre>MetaPipeline(steps=[(&#x27;featureunion&#x27;,\n",
       "                     FeatureUnion(transformer_list=[(&#x27;groupstatspreprocessor&#x27;,\n",
       "                                                     GroupStatsPreProcessor(groups=[&#x27;sunshine&#x27;,\n",
       "                                                                                    &#x27;rain&#x27;])),\n",
       "                                                    (&#x27;columnselector&#x27;,\n",
       "                                                     ColumnSelector(columns=[&#x27;feature_honoured_observational_balaamite&#x27;,\n",
       "                                                                             &#x27;feature_polaroid_vadose_quinze&#x27;,\n",
       "                                                                             &#x27;feature_untidy_withdrawn_bargeman&#x27;,\n",
       "                                                                             &#x27;feature_genuine_kyphotic_trehala&#x27;,\n",
       "                                                                             &#x27;feature_unenthr...\n",
       "                                                              max_depth=None,\n",
       "                                                              min_child_weight=None,\n",
       "                                                              missing=nan,\n",
       "                                                              monotone_constraints=None,\n",
       "                                                              n_estimators=100,\n",
       "                                                              n_jobs=None,\n",
       "                                                              num_parallel_tree=None,\n",
       "                                                              random_state=None,\n",
       "                                                              reg_alpha=None,\n",
       "                                                              reg_lambda=None,\n",
       "                                                              scale_pos_weight=None,\n",
       "                                                              subsample=None,\n",
       "                                                              tree_method=None,\n",
       "                                                              validate_parameters=None,\n",
       "                                                              verbosity=None))),\n",
       "                    (&#x27;numeraiensemble&#x27;, NumeraiEnsemble()),\n",
       "                    (&#x27;featureneutralizer&#x27;, FeatureNeutralizer())])</pre><b>In a Jupyter environment, please rerun this cell to show the HTML representation or trust the notebook. <br />On GitHub, the HTML representation is unable to render, please try loading this page with nbviewer.org.</b></div><div class=\"sk-container\" hidden><div class=\"sk-item sk-dashed-wrapped\"><div class=\"sk-label-container\"><div class=\"sk-label sk-toggleable\"><input class=\"sk-toggleable__control sk-hidden--visually\" id=\"sk-estimator-id-1\" type=\"checkbox\" ><label for=\"sk-estimator-id-1\" class=\"sk-toggleable__label sk-toggleable__label-arrow\">MetaPipeline</label><div class=\"sk-toggleable__content\"><pre>MetaPipeline(steps=[(&#x27;featureunion&#x27;,\n",
       "                     FeatureUnion(transformer_list=[(&#x27;groupstatspreprocessor&#x27;,\n",
       "                                                     GroupStatsPreProcessor(groups=[&#x27;sunshine&#x27;,\n",
       "                                                                                    &#x27;rain&#x27;])),\n",
       "                                                    (&#x27;columnselector&#x27;,\n",
       "                                                     ColumnSelector(columns=[&#x27;feature_honoured_observational_balaamite&#x27;,\n",
       "                                                                             &#x27;feature_polaroid_vadose_quinze&#x27;,\n",
       "                                                                             &#x27;feature_untidy_withdrawn_bargeman&#x27;,\n",
       "                                                                             &#x27;feature_genuine_kyphotic_trehala&#x27;,\n",
       "                                                                             &#x27;feature_unenthr...\n",
       "                                                              max_depth=None,\n",
       "                                                              min_child_weight=None,\n",
       "                                                              missing=nan,\n",
       "                                                              monotone_constraints=None,\n",
       "                                                              n_estimators=100,\n",
       "                                                              n_jobs=None,\n",
       "                                                              num_parallel_tree=None,\n",
       "                                                              random_state=None,\n",
       "                                                              reg_alpha=None,\n",
       "                                                              reg_lambda=None,\n",
       "                                                              scale_pos_weight=None,\n",
       "                                                              subsample=None,\n",
       "                                                              tree_method=None,\n",
       "                                                              validate_parameters=None,\n",
       "                                                              verbosity=None))),\n",
       "                    (&#x27;numeraiensemble&#x27;, NumeraiEnsemble()),\n",
       "                    (&#x27;featureneutralizer&#x27;, FeatureNeutralizer())])</pre></div></div></div><div class=\"sk-serial\"><div class=\"sk-item sk-dashed-wrapped\"><div class=\"sk-label-container\"><div class=\"sk-label sk-toggleable\"><input class=\"sk-toggleable__control sk-hidden--visually\" id=\"sk-estimator-id-2\" type=\"checkbox\" ><label for=\"sk-estimator-id-2\" class=\"sk-toggleable__label sk-toggleable__label-arrow\">featureunion: FeatureUnion</label><div class=\"sk-toggleable__content\"><pre>FeatureUnion(transformer_list=[(&#x27;groupstatspreprocessor&#x27;,\n",
       "                                GroupStatsPreProcessor(groups=[&#x27;sunshine&#x27;,\n",
       "                                                               &#x27;rain&#x27;])),\n",
       "                               (&#x27;columnselector&#x27;,\n",
       "                                ColumnSelector(columns=[&#x27;feature_honoured_observational_balaamite&#x27;,\n",
       "                                                        &#x27;feature_polaroid_vadose_quinze&#x27;,\n",
       "                                                        &#x27;feature_untidy_withdrawn_bargeman&#x27;,\n",
       "                                                        &#x27;feature_genuine_kyphotic_trehala&#x27;,\n",
       "                                                        &#x27;feature_unenthralled_sportful_schoolhouse&#x27;,\n",
       "                                                        &#x27;feature...\n",
       "                                                        &#x27;feature_froggier_unlearned_underworkman&#x27;,\n",
       "                                                        &#x27;feature_peninsular_pulsatile_vapor&#x27;,\n",
       "                                                        &#x27;feature_midmost_perspiratory_hubert&#x27;,\n",
       "                                                        &#x27;feature_laminable_unspecified_gynoecium&#x27;,\n",
       "                                                        &#x27;feature_bally_bathymetrical_isadora&#x27;,\n",
       "                                                        &#x27;feature_skim_unmeant_bandsman&#x27;,\n",
       "                                                        &#x27;feature_ungenuine_sporophytic_evangelist&#x27;,\n",
       "                                                        &#x27;feature_supercelestial_telic_dyfed&#x27;,\n",
       "                                                        &#x27;feature_inconsiderate_unbooted_ricer&#x27;, ...]))])</pre></div></div></div><div class=\"sk-parallel\"><div class=\"sk-parallel-item\"><div class=\"sk-item\"><div class=\"sk-label-container\"><div class=\"sk-label sk-toggleable\"><label>groupstatspreprocessor</label></div></div><div class=\"sk-serial\"><div class=\"sk-item\"><div class=\"sk-estimator sk-toggleable\"><input class=\"sk-toggleable__control sk-hidden--visually\" id=\"sk-estimator-id-3\" type=\"checkbox\" ><label for=\"sk-estimator-id-3\" class=\"sk-toggleable__label sk-toggleable__label-arrow\">GroupStatsPreProcessor</label><div class=\"sk-toggleable__content\"><pre>GroupStatsPreProcessor(groups=[&#x27;sunshine&#x27;, &#x27;rain&#x27;])</pre></div></div></div></div></div></div><div class=\"sk-parallel-item\"><div class=\"sk-item\"><div class=\"sk-label-container\"><div class=\"sk-label sk-toggleable\"><label>columnselector</label></div></div><div class=\"sk-serial\"><div class=\"sk-item\"><div class=\"sk-estimator sk-toggleable\"><input class=\"sk-toggleable__control sk-hidden--visually\" id=\"sk-estimator-id-4\" type=\"checkbox\" ><label for=\"sk-estimator-id-4\" class=\"sk-toggleable__label sk-toggleable__label-arrow\">ColumnSelector</label><div class=\"sk-toggleable__content\"><pre>ColumnSelector(columns=[&#x27;feature_honoured_observational_balaamite&#x27;,\n",
       "                        &#x27;feature_polaroid_vadose_quinze&#x27;,\n",
       "                        &#x27;feature_untidy_withdrawn_bargeman&#x27;,\n",
       "                        &#x27;feature_genuine_kyphotic_trehala&#x27;,\n",
       "                        &#x27;feature_unenthralled_sportful_schoolhouse&#x27;,\n",
       "                        &#x27;feature_divulsive_explanatory_ideologue&#x27;,\n",
       "                        &#x27;feature_ichthyotic_roofed_yeshiva&#x27;,\n",
       "                        &#x27;feature_waggly_outlandish_carbonisation&#x27;,\n",
       "                        &#x27;feature_floria...\n",
       "                        &#x27;feature_froggier_unlearned_underworkman&#x27;,\n",
       "                        &#x27;feature_peninsular_pulsatile_vapor&#x27;,\n",
       "                        &#x27;feature_midmost_perspiratory_hubert&#x27;,\n",
       "                        &#x27;feature_laminable_unspecified_gynoecium&#x27;,\n",
       "                        &#x27;feature_bally_bathymetrical_isadora&#x27;,\n",
       "                        &#x27;feature_skim_unmeant_bandsman&#x27;,\n",
       "                        &#x27;feature_ungenuine_sporophytic_evangelist&#x27;,\n",
       "                        &#x27;feature_supercelestial_telic_dyfed&#x27;,\n",
       "                        &#x27;feature_inconsiderate_unbooted_ricer&#x27;, ...])</pre></div></div></div></div></div></div></div></div><div class=\"sk-item sk-dashed-wrapped\"><div class=\"sk-label-container\"><div class=\"sk-label sk-toggleable\"><input class=\"sk-toggleable__control sk-hidden--visually\" id=\"sk-estimator-id-5\" type=\"checkbox\" ><label for=\"sk-estimator-id-5\" class=\"sk-toggleable__label sk-toggleable__label-arrow\">crossvalestimator: CrossValEstimator</label><div class=\"sk-toggleable__content\"><pre>CrossValEstimator(cv=TimeSeriesSplit(gap=0, max_train_size=None, n_splits=5, test_size=None),\n",
       "                  estimator=XGBRegressor(base_score=None, booster=None,\n",
       "                                         colsample_bylevel=None,\n",
       "                                         colsample_bynode=None,\n",
       "                                         colsample_bytree=None, gamma=None,\n",
       "                                         gpu_id=None, importance_type=&#x27;gain&#x27;,\n",
       "                                         interaction_constraints=None,\n",
       "                                         learning_rate=None,\n",
       "                                         max_delta_step=None, max_depth=None,\n",
       "                                         min_child_weight=None, missing=nan,\n",
       "                                         monotone_constraints=None,\n",
       "                                         n_estimators=100, n_jobs=None,\n",
       "                                         num_parallel_tree=None,\n",
       "                                         random_state=None, reg_alpha=None,\n",
       "                                         reg_lambda=None, scale_pos_weight=None,\n",
       "                                         subsample=None, tree_method=None,\n",
       "                                         validate_parameters=None,\n",
       "                                         verbosity=None))</pre></div></div></div><div class=\"sk-parallel\"><div class=\"sk-parallel-item\"><div class=\"sk-item\"><div class=\"sk-label-container\"><div class=\"sk-label sk-toggleable\"><input class=\"sk-toggleable__control sk-hidden--visually\" id=\"sk-estimator-id-6\" type=\"checkbox\" ><label for=\"sk-estimator-id-6\" class=\"sk-toggleable__label sk-toggleable__label-arrow\">estimator: XGBRegressor</label><div class=\"sk-toggleable__content\"><pre>XGBRegressor(base_score=None, booster=None, colsample_bylevel=None,\n",
       "             colsample_bynode=None, colsample_bytree=None, gamma=None,\n",
       "             gpu_id=None, importance_type=&#x27;gain&#x27;, interaction_constraints=None,\n",
       "             learning_rate=None, max_delta_step=None, max_depth=None,\n",
       "             min_child_weight=None, missing=nan, monotone_constraints=None,\n",
       "             n_estimators=100, n_jobs=None, num_parallel_tree=None,\n",
       "             random_state=None, reg_alpha=None, reg_lambda=None,\n",
       "             scale_pos_weight=None, subsample=None, tree_method=None,\n",
       "             validate_parameters=None, verbosity=None)</pre></div></div></div><div class=\"sk-serial\"><div class=\"sk-item\"><div class=\"sk-estimator sk-toggleable\"><input class=\"sk-toggleable__control sk-hidden--visually\" id=\"sk-estimator-id-7\" type=\"checkbox\" ><label for=\"sk-estimator-id-7\" class=\"sk-toggleable__label sk-toggleable__label-arrow\">XGBRegressor</label><div class=\"sk-toggleable__content\"><pre>XGBRegressor(base_score=None, booster=None, colsample_bylevel=None,\n",
       "             colsample_bynode=None, colsample_bytree=None, gamma=None,\n",
       "             gpu_id=None, importance_type=&#x27;gain&#x27;, interaction_constraints=None,\n",
       "             learning_rate=None, max_delta_step=None, max_depth=None,\n",
       "             min_child_weight=None, missing=nan, monotone_constraints=None,\n",
       "             n_estimators=100, n_jobs=None, num_parallel_tree=None,\n",
       "             random_state=None, reg_alpha=None, reg_lambda=None,\n",
       "             scale_pos_weight=None, subsample=None, tree_method=None,\n",
       "             validate_parameters=None, verbosity=None)</pre></div></div></div></div></div></div></div></div><div class=\"sk-item\"><div class=\"sk-estimator sk-toggleable\"><input class=\"sk-toggleable__control sk-hidden--visually\" id=\"sk-estimator-id-8\" type=\"checkbox\" ><label for=\"sk-estimator-id-8\" class=\"sk-toggleable__label sk-toggleable__label-arrow\">NumeraiEnsemble</label><div class=\"sk-toggleable__content\"><pre>NumeraiEnsemble()</pre></div></div></div><div class=\"sk-item\"><div class=\"sk-estimator sk-toggleable\"><input class=\"sk-toggleable__control sk-hidden--visually\" id=\"sk-estimator-id-9\" type=\"checkbox\" ><label for=\"sk-estimator-id-9\" class=\"sk-toggleable__label sk-toggleable__label-arrow\">FeatureNeutralizer</label><div class=\"sk-toggleable__content\"><pre>FeatureNeutralizer()</pre></div></div></div></div></div></div></div>"
      ],
      "text/plain": [
       "MetaPipeline(steps=[('featureunion',\n",
       "                     FeatureUnion(transformer_list=[('groupstatspreprocessor',\n",
       "                                                     GroupStatsPreProcessor(groups=['sunshine',\n",
       "                                                                                    'rain'])),\n",
       "                                                    ('columnselector',\n",
       "                                                     ColumnSelector(columns=['feature_honoured_observational_balaamite',\n",
       "                                                                             'feature_polaroid_vadose_quinze',\n",
       "                                                                             'feature_untidy_withdrawn_bargeman',\n",
       "                                                                             'feature_genuine_kyphotic_trehala',\n",
       "                                                                             'feature_unenthr...\n",
       "                                                              max_depth=None,\n",
       "                                                              min_child_weight=None,\n",
       "                                                              missing=nan,\n",
       "                                                              monotone_constraints=None,\n",
       "                                                              n_estimators=100,\n",
       "                                                              n_jobs=None,\n",
       "                                                              num_parallel_tree=None,\n",
       "                                                              random_state=None,\n",
       "                                                              reg_alpha=None,\n",
       "                                                              reg_lambda=None,\n",
       "                                                              scale_pos_weight=None,\n",
       "                                                              subsample=None,\n",
       "                                                              tree_method=None,\n",
       "                                                              validate_parameters=None,\n",
       "                                                              verbosity=None))),\n",
       "                    ('numeraiensemble', NumeraiEnsemble()),\n",
       "                    ('featureneutralizer', FeatureNeutralizer())])"
      ]
     },
     "execution_count": 5,
     "metadata": {},
     "output_type": "execute_result"
    }
   ],
   "source": [
    "# Preprocessing\n",
    "gpp = GroupStatsPreProcessor(groups=['sunshine', 'rain'])\n",
    "fncv3_selector = ColumnSelector(fncv3_cols)\n",
    "\n",
    "preproc_pipe = make_union(gpp, fncv3_selector)\n",
    "\n",
    "# Model\n",
    "xgb = XGBRegressor()\n",
    "cve = CrossValEstimator(estimator=xgb, cv=TimeSeriesSplit(n_splits=5))\n",
    "fn = FeatureNeutralizer(proportion=0.5)\n",
    "ens = NumeraiEnsemble()\n",
    "full_pipe = make_meta_pipeline(preproc_pipe, cve, ens, fn)\n",
    "full_pipe"
   ]
  },
  {
   "cell_type": "code",
   "execution_count": 6,
   "metadata": {},
   "outputs": [],
   "source": [
    "# Train full model\n",
    "full_pipe.fit(X, y, numeraiensemble__eras=eras, featureneutralizer__eras=eras, featureneutralizer__features=features);"
   ]
  },
  {
   "cell_type": "code",
   "execution_count": 7,
   "metadata": {},
   "outputs": [
    {
     "data": {
      "text/plain": [
       "array([[0.15709459],\n",
       "       [0.84744208],\n",
       "       [0.19782819],\n",
       "       [0.82215251],\n",
       "       [0.63055019]])"
      ]
     },
     "execution_count": 7,
     "metadata": {},
     "output_type": "execute_result"
    }
   ],
   "source": [
    "# Unneutralized predictions\n",
    "full_pipe[:-1].predict(X, eras=eras)[:5]"
   ]
  },
  {
   "cell_type": "code",
   "execution_count": 8,
   "metadata": {},
   "outputs": [
    {
     "data": {
      "text/plain": [
       "array([[0.36577675],\n",
       "       [0.64867036],\n",
       "       [0.38364433],\n",
       "       [0.5980937 ],\n",
       "       [0.62150554]])"
      ]
     },
     "execution_count": 8,
     "metadata": {},
     "output_type": "execute_result"
    }
   ],
   "source": [
    "# End to end predictions\n",
    "preds = full_pipe.predict(X=X, features=features, eras=eras)\n",
    "preds[:5]"
   ]
  },
  {
   "cell_type": "markdown",
   "metadata": {},
   "source": [
    "## 2. Multiclass Classification Ensemble"
   ]
  },
  {
   "cell_type": "code",
   "execution_count": 9,
   "metadata": {},
   "outputs": [],
   "source": [
    "model = DecisionTreeClassifier()\n",
    "crossval1 = CrossValEstimator(estimator=model, cv=TimeSeriesSplit(n_splits=3), predict_func='predict_proba')\n",
    "pred_rud = PredictionReducer(n_models=3, n_classes=5)\n",
    "ens2 = NumeraiEnsemble(donate_weighted=True)\n",
    "neut2 = FeatureNeutralizer(proportion=0.5)\n",
    "pipe2 = make_pipeline(preproc_pipe, crossval1, pred_rud, ens2, neut2)\n",
    "full_pipe = TransformedTargetRegressor(pipe2, func=lambda x: (x * 4).astype(int), inverse_func=lambda x: x)"
   ]
  },
  {
   "cell_type": "code",
   "execution_count": 10,
   "metadata": {},
   "outputs": [
    {
     "data": {
      "text/html": [
       "<style>#sk-container-id-2 {color: black;}#sk-container-id-2 pre{padding: 0;}#sk-container-id-2 div.sk-toggleable {background-color: white;}#sk-container-id-2 label.sk-toggleable__label {cursor: pointer;display: block;width: 100%;margin-bottom: 0;padding: 0.3em;box-sizing: border-box;text-align: center;}#sk-container-id-2 label.sk-toggleable__label-arrow:before {content: \"▸\";float: left;margin-right: 0.25em;color: #696969;}#sk-container-id-2 label.sk-toggleable__label-arrow:hover:before {color: black;}#sk-container-id-2 div.sk-estimator:hover label.sk-toggleable__label-arrow:before {color: black;}#sk-container-id-2 div.sk-toggleable__content {max-height: 0;max-width: 0;overflow: hidden;text-align: left;background-color: #f0f8ff;}#sk-container-id-2 div.sk-toggleable__content pre {margin: 0.2em;color: black;border-radius: 0.25em;background-color: #f0f8ff;}#sk-container-id-2 input.sk-toggleable__control:checked~div.sk-toggleable__content {max-height: 200px;max-width: 100%;overflow: auto;}#sk-container-id-2 input.sk-toggleable__control:checked~label.sk-toggleable__label-arrow:before {content: \"▾\";}#sk-container-id-2 div.sk-estimator input.sk-toggleable__control:checked~label.sk-toggleable__label {background-color: #d4ebff;}#sk-container-id-2 div.sk-label input.sk-toggleable__control:checked~label.sk-toggleable__label {background-color: #d4ebff;}#sk-container-id-2 input.sk-hidden--visually {border: 0;clip: rect(1px 1px 1px 1px);clip: rect(1px, 1px, 1px, 1px);height: 1px;margin: -1px;overflow: hidden;padding: 0;position: absolute;width: 1px;}#sk-container-id-2 div.sk-estimator {font-family: monospace;background-color: #f0f8ff;border: 1px dotted black;border-radius: 0.25em;box-sizing: border-box;margin-bottom: 0.5em;}#sk-container-id-2 div.sk-estimator:hover {background-color: #d4ebff;}#sk-container-id-2 div.sk-parallel-item::after {content: \"\";width: 100%;border-bottom: 1px solid gray;flex-grow: 1;}#sk-container-id-2 div.sk-label:hover label.sk-toggleable__label {background-color: #d4ebff;}#sk-container-id-2 div.sk-serial::before {content: \"\";position: absolute;border-left: 1px solid gray;box-sizing: border-box;top: 0;bottom: 0;left: 50%;z-index: 0;}#sk-container-id-2 div.sk-serial {display: flex;flex-direction: column;align-items: center;background-color: white;padding-right: 0.2em;padding-left: 0.2em;position: relative;}#sk-container-id-2 div.sk-item {position: relative;z-index: 1;}#sk-container-id-2 div.sk-parallel {display: flex;align-items: stretch;justify-content: center;background-color: white;position: relative;}#sk-container-id-2 div.sk-item::before, #sk-container-id-2 div.sk-parallel-item::before {content: \"\";position: absolute;border-left: 1px solid gray;box-sizing: border-box;top: 0;bottom: 0;left: 50%;z-index: -1;}#sk-container-id-2 div.sk-parallel-item {display: flex;flex-direction: column;z-index: 1;position: relative;background-color: white;}#sk-container-id-2 div.sk-parallel-item:first-child::after {align-self: flex-end;width: 50%;}#sk-container-id-2 div.sk-parallel-item:last-child::after {align-self: flex-start;width: 50%;}#sk-container-id-2 div.sk-parallel-item:only-child::after {width: 0;}#sk-container-id-2 div.sk-dashed-wrapped {border: 1px dashed gray;margin: 0 0.4em 0.5em 0.4em;box-sizing: border-box;padding-bottom: 0.4em;background-color: white;}#sk-container-id-2 div.sk-label label {font-family: monospace;font-weight: bold;display: inline-block;line-height: 1.2em;}#sk-container-id-2 div.sk-label-container {text-align: center;}#sk-container-id-2 div.sk-container {/* jupyter's `normalize.less` sets `[hidden] { display: none; }` but bootstrap.min.css set `[hidden] { display: none !important; }` so we also need the `!important` here to be able to override the default hidden behavior on the sphinx rendered scikit-learn.org. See: https://github.com/scikit-learn/scikit-learn/issues/21755 */display: inline-block !important;position: relative;}#sk-container-id-2 div.sk-text-repr-fallback {display: none;}</style><div id=\"sk-container-id-2\" class=\"sk-top-container\"><div class=\"sk-text-repr-fallback\"><pre>TransformedTargetRegressor(func=&lt;function &lt;lambda&gt; at 0x7efbc6f2be50&gt;,\n",
       "                           inverse_func=&lt;function &lt;lambda&gt; at 0x7efbc6f2b790&gt;,\n",
       "                           regressor=Pipeline(steps=[(&#x27;featureunion&#x27;,\n",
       "                                                      FeatureUnion(transformer_list=[(&#x27;groupstatspreprocessor&#x27;,\n",
       "                                                                                      GroupStatsPreProcessor(groups=[&#x27;sunshine&#x27;,\n",
       "                                                                                                                     &#x27;rain&#x27;])),\n",
       "                                                                                     (&#x27;columnselector&#x27;,\n",
       "                                                                                      ColumnSelector(columns=[&#x27;feature_honoured_observational_balaamite&#x27;...\n",
       "                                                                                                              &#x27;feature_inconsiderate_unbooted_ricer&#x27;, ...]))])),\n",
       "                                                     (&#x27;crossvalestimator&#x27;,\n",
       "                                                      CrossValEstimator(cv=TimeSeriesSplit(gap=0, max_train_size=None, n_splits=3, test_size=None),\n",
       "                                                                        estimator=DecisionTreeClassifier(),\n",
       "                                                                        predict_func=&#x27;predict_proba&#x27;)),\n",
       "                                                     (&#x27;predictionreducer&#x27;,\n",
       "                                                      PredictionReducer(n_classes=5,\n",
       "                                                                        n_models=3)),\n",
       "                                                     (&#x27;numeraiensemble&#x27;,\n",
       "                                                      NumeraiEnsemble(donate_weighted=True)),\n",
       "                                                     (&#x27;featureneutralizer&#x27;,\n",
       "                                                      FeatureNeutralizer())]))</pre><b>In a Jupyter environment, please rerun this cell to show the HTML representation or trust the notebook. <br />On GitHub, the HTML representation is unable to render, please try loading this page with nbviewer.org.</b></div><div class=\"sk-container\" hidden><div class=\"sk-item sk-dashed-wrapped\"><div class=\"sk-label-container\"><div class=\"sk-label sk-toggleable\"><input class=\"sk-toggleable__control sk-hidden--visually\" id=\"sk-estimator-id-10\" type=\"checkbox\" ><label for=\"sk-estimator-id-10\" class=\"sk-toggleable__label sk-toggleable__label-arrow\">TransformedTargetRegressor</label><div class=\"sk-toggleable__content\"><pre>TransformedTargetRegressor(func=&lt;function &lt;lambda&gt; at 0x7efbc6f2be50&gt;,\n",
       "                           inverse_func=&lt;function &lt;lambda&gt; at 0x7efbc6f2b790&gt;,\n",
       "                           regressor=Pipeline(steps=[(&#x27;featureunion&#x27;,\n",
       "                                                      FeatureUnion(transformer_list=[(&#x27;groupstatspreprocessor&#x27;,\n",
       "                                                                                      GroupStatsPreProcessor(groups=[&#x27;sunshine&#x27;,\n",
       "                                                                                                                     &#x27;rain&#x27;])),\n",
       "                                                                                     (&#x27;columnselector&#x27;,\n",
       "                                                                                      ColumnSelector(columns=[&#x27;feature_honoured_observational_balaamite&#x27;...\n",
       "                                                                                                              &#x27;feature_inconsiderate_unbooted_ricer&#x27;, ...]))])),\n",
       "                                                     (&#x27;crossvalestimator&#x27;,\n",
       "                                                      CrossValEstimator(cv=TimeSeriesSplit(gap=0, max_train_size=None, n_splits=3, test_size=None),\n",
       "                                                                        estimator=DecisionTreeClassifier(),\n",
       "                                                                        predict_func=&#x27;predict_proba&#x27;)),\n",
       "                                                     (&#x27;predictionreducer&#x27;,\n",
       "                                                      PredictionReducer(n_classes=5,\n",
       "                                                                        n_models=3)),\n",
       "                                                     (&#x27;numeraiensemble&#x27;,\n",
       "                                                      NumeraiEnsemble(donate_weighted=True)),\n",
       "                                                     (&#x27;featureneutralizer&#x27;,\n",
       "                                                      FeatureNeutralizer())]))</pre></div></div></div><div class=\"sk-parallel\"><div class=\"sk-parallel-item\"><div class=\"sk-item\"><div class=\"sk-label-container\"><div class=\"sk-label sk-toggleable\"><input class=\"sk-toggleable__control sk-hidden--visually\" id=\"sk-estimator-id-11\" type=\"checkbox\" ><label for=\"sk-estimator-id-11\" class=\"sk-toggleable__label sk-toggleable__label-arrow\">regressor: Pipeline</label><div class=\"sk-toggleable__content\"><pre>Pipeline(steps=[(&#x27;featureunion&#x27;,\n",
       "                 FeatureUnion(transformer_list=[(&#x27;groupstatspreprocessor&#x27;,\n",
       "                                                 GroupStatsPreProcessor(groups=[&#x27;sunshine&#x27;,\n",
       "                                                                                &#x27;rain&#x27;])),\n",
       "                                                (&#x27;columnselector&#x27;,\n",
       "                                                 ColumnSelector(columns=[&#x27;feature_honoured_observational_balaamite&#x27;,\n",
       "                                                                         &#x27;feature_polaroid_vadose_quinze&#x27;,\n",
       "                                                                         &#x27;feature_untidy_withdrawn_bargeman&#x27;,\n",
       "                                                                         &#x27;feature_genuine_kyphotic_trehala&#x27;,\n",
       "                                                                         &#x27;feature_unenthralle...\n",
       "                                                                         &#x27;feature_inconsiderate_unbooted_ricer&#x27;, ...]))])),\n",
       "                (&#x27;crossvalestimator&#x27;,\n",
       "                 CrossValEstimator(cv=TimeSeriesSplit(gap=0, max_train_size=None, n_splits=3, test_size=None),\n",
       "                                   estimator=DecisionTreeClassifier(),\n",
       "                                   predict_func=&#x27;predict_proba&#x27;)),\n",
       "                (&#x27;predictionreducer&#x27;,\n",
       "                 PredictionReducer(n_classes=5, n_models=3)),\n",
       "                (&#x27;numeraiensemble&#x27;, NumeraiEnsemble(donate_weighted=True)),\n",
       "                (&#x27;featureneutralizer&#x27;, FeatureNeutralizer())])</pre></div></div></div><div class=\"sk-serial\"><div class=\"sk-item\"><div class=\"sk-serial\"><div class=\"sk-item sk-dashed-wrapped\"><div class=\"sk-label-container\"><div class=\"sk-label sk-toggleable\"><input class=\"sk-toggleable__control sk-hidden--visually\" id=\"sk-estimator-id-12\" type=\"checkbox\" ><label for=\"sk-estimator-id-12\" class=\"sk-toggleable__label sk-toggleable__label-arrow\">featureunion: FeatureUnion</label><div class=\"sk-toggleable__content\"><pre>FeatureUnion(transformer_list=[(&#x27;groupstatspreprocessor&#x27;,\n",
       "                                GroupStatsPreProcessor(groups=[&#x27;sunshine&#x27;,\n",
       "                                                               &#x27;rain&#x27;])),\n",
       "                               (&#x27;columnselector&#x27;,\n",
       "                                ColumnSelector(columns=[&#x27;feature_honoured_observational_balaamite&#x27;,\n",
       "                                                        &#x27;feature_polaroid_vadose_quinze&#x27;,\n",
       "                                                        &#x27;feature_untidy_withdrawn_bargeman&#x27;,\n",
       "                                                        &#x27;feature_genuine_kyphotic_trehala&#x27;,\n",
       "                                                        &#x27;feature_unenthralled_sportful_schoolhouse&#x27;,\n",
       "                                                        &#x27;feature...\n",
       "                                                        &#x27;feature_froggier_unlearned_underworkman&#x27;,\n",
       "                                                        &#x27;feature_peninsular_pulsatile_vapor&#x27;,\n",
       "                                                        &#x27;feature_midmost_perspiratory_hubert&#x27;,\n",
       "                                                        &#x27;feature_laminable_unspecified_gynoecium&#x27;,\n",
       "                                                        &#x27;feature_bally_bathymetrical_isadora&#x27;,\n",
       "                                                        &#x27;feature_skim_unmeant_bandsman&#x27;,\n",
       "                                                        &#x27;feature_ungenuine_sporophytic_evangelist&#x27;,\n",
       "                                                        &#x27;feature_supercelestial_telic_dyfed&#x27;,\n",
       "                                                        &#x27;feature_inconsiderate_unbooted_ricer&#x27;, ...]))])</pre></div></div></div><div class=\"sk-parallel\"><div class=\"sk-parallel-item\"><div class=\"sk-item\"><div class=\"sk-label-container\"><div class=\"sk-label sk-toggleable\"><label>groupstatspreprocessor</label></div></div><div class=\"sk-serial\"><div class=\"sk-item\"><div class=\"sk-estimator sk-toggleable\"><input class=\"sk-toggleable__control sk-hidden--visually\" id=\"sk-estimator-id-13\" type=\"checkbox\" ><label for=\"sk-estimator-id-13\" class=\"sk-toggleable__label sk-toggleable__label-arrow\">GroupStatsPreProcessor</label><div class=\"sk-toggleable__content\"><pre>GroupStatsPreProcessor(groups=[&#x27;sunshine&#x27;, &#x27;rain&#x27;])</pre></div></div></div></div></div></div><div class=\"sk-parallel-item\"><div class=\"sk-item\"><div class=\"sk-label-container\"><div class=\"sk-label sk-toggleable\"><label>columnselector</label></div></div><div class=\"sk-serial\"><div class=\"sk-item\"><div class=\"sk-estimator sk-toggleable\"><input class=\"sk-toggleable__control sk-hidden--visually\" id=\"sk-estimator-id-14\" type=\"checkbox\" ><label for=\"sk-estimator-id-14\" class=\"sk-toggleable__label sk-toggleable__label-arrow\">ColumnSelector</label><div class=\"sk-toggleable__content\"><pre>ColumnSelector(columns=[&#x27;feature_honoured_observational_balaamite&#x27;,\n",
       "                        &#x27;feature_polaroid_vadose_quinze&#x27;,\n",
       "                        &#x27;feature_untidy_withdrawn_bargeman&#x27;,\n",
       "                        &#x27;feature_genuine_kyphotic_trehala&#x27;,\n",
       "                        &#x27;feature_unenthralled_sportful_schoolhouse&#x27;,\n",
       "                        &#x27;feature_divulsive_explanatory_ideologue&#x27;,\n",
       "                        &#x27;feature_ichthyotic_roofed_yeshiva&#x27;,\n",
       "                        &#x27;feature_waggly_outlandish_carbonisation&#x27;,\n",
       "                        &#x27;feature_floria...\n",
       "                        &#x27;feature_froggier_unlearned_underworkman&#x27;,\n",
       "                        &#x27;feature_peninsular_pulsatile_vapor&#x27;,\n",
       "                        &#x27;feature_midmost_perspiratory_hubert&#x27;,\n",
       "                        &#x27;feature_laminable_unspecified_gynoecium&#x27;,\n",
       "                        &#x27;feature_bally_bathymetrical_isadora&#x27;,\n",
       "                        &#x27;feature_skim_unmeant_bandsman&#x27;,\n",
       "                        &#x27;feature_ungenuine_sporophytic_evangelist&#x27;,\n",
       "                        &#x27;feature_supercelestial_telic_dyfed&#x27;,\n",
       "                        &#x27;feature_inconsiderate_unbooted_ricer&#x27;, ...])</pre></div></div></div></div></div></div></div></div><div class=\"sk-item sk-dashed-wrapped\"><div class=\"sk-label-container\"><div class=\"sk-label sk-toggleable\"><input class=\"sk-toggleable__control sk-hidden--visually\" id=\"sk-estimator-id-15\" type=\"checkbox\" ><label for=\"sk-estimator-id-15\" class=\"sk-toggleable__label sk-toggleable__label-arrow\">crossvalestimator: CrossValEstimator</label><div class=\"sk-toggleable__content\"><pre>CrossValEstimator(cv=TimeSeriesSplit(gap=0, max_train_size=None, n_splits=3, test_size=None),\n",
       "                  estimator=DecisionTreeClassifier(),\n",
       "                  predict_func=&#x27;predict_proba&#x27;)</pre></div></div></div><div class=\"sk-parallel\"><div class=\"sk-parallel-item\"><div class=\"sk-item\"><div class=\"sk-label-container\"><div class=\"sk-label sk-toggleable\"><input class=\"sk-toggleable__control sk-hidden--visually\" id=\"sk-estimator-id-16\" type=\"checkbox\" ><label for=\"sk-estimator-id-16\" class=\"sk-toggleable__label sk-toggleable__label-arrow\">estimator: DecisionTreeClassifier</label><div class=\"sk-toggleable__content\"><pre>DecisionTreeClassifier()</pre></div></div></div><div class=\"sk-serial\"><div class=\"sk-item\"><div class=\"sk-estimator sk-toggleable\"><input class=\"sk-toggleable__control sk-hidden--visually\" id=\"sk-estimator-id-17\" type=\"checkbox\" ><label for=\"sk-estimator-id-17\" class=\"sk-toggleable__label sk-toggleable__label-arrow\">DecisionTreeClassifier</label><div class=\"sk-toggleable__content\"><pre>DecisionTreeClassifier()</pre></div></div></div></div></div></div></div></div><div class=\"sk-item\"><div class=\"sk-estimator sk-toggleable\"><input class=\"sk-toggleable__control sk-hidden--visually\" id=\"sk-estimator-id-18\" type=\"checkbox\" ><label for=\"sk-estimator-id-18\" class=\"sk-toggleable__label sk-toggleable__label-arrow\">PredictionReducer</label><div class=\"sk-toggleable__content\"><pre>PredictionReducer(n_classes=5, n_models=3)</pre></div></div></div><div class=\"sk-item\"><div class=\"sk-estimator sk-toggleable\"><input class=\"sk-toggleable__control sk-hidden--visually\" id=\"sk-estimator-id-19\" type=\"checkbox\" ><label for=\"sk-estimator-id-19\" class=\"sk-toggleable__label sk-toggleable__label-arrow\">NumeraiEnsemble</label><div class=\"sk-toggleable__content\"><pre>NumeraiEnsemble(donate_weighted=True)</pre></div></div></div><div class=\"sk-item\"><div class=\"sk-estimator sk-toggleable\"><input class=\"sk-toggleable__control sk-hidden--visually\" id=\"sk-estimator-id-20\" type=\"checkbox\" ><label for=\"sk-estimator-id-20\" class=\"sk-toggleable__label sk-toggleable__label-arrow\">FeatureNeutralizer</label><div class=\"sk-toggleable__content\"><pre>FeatureNeutralizer()</pre></div></div></div></div></div></div></div></div></div></div></div></div>"
      ],
      "text/plain": [
       "TransformedTargetRegressor(func=<function <lambda> at 0x7efbc6f2be50>,\n",
       "                           inverse_func=<function <lambda> at 0x7efbc6f2b790>,\n",
       "                           regressor=Pipeline(steps=[('featureunion',\n",
       "                                                      FeatureUnion(transformer_list=[('groupstatspreprocessor',\n",
       "                                                                                      GroupStatsPreProcessor(groups=['sunshine',\n",
       "                                                                                                                     'rain'])),\n",
       "                                                                                     ('columnselector',\n",
       "                                                                                      ColumnSelector(columns=['feature_honoured_observational_balaamite'...\n",
       "                                                                                                              'feature_inconsiderate_unbooted_ricer', ...]))])),\n",
       "                                                     ('crossvalestimator',\n",
       "                                                      CrossValEstimator(cv=TimeSeriesSplit(gap=0, max_train_size=None, n_splits=3, test_size=None),\n",
       "                                                                        estimator=DecisionTreeClassifier(),\n",
       "                                                                        predict_func='predict_proba')),\n",
       "                                                     ('predictionreducer',\n",
       "                                                      PredictionReducer(n_classes=5,\n",
       "                                                                        n_models=3)),\n",
       "                                                     ('numeraiensemble',\n",
       "                                                      NumeraiEnsemble(donate_weighted=True)),\n",
       "                                                     ('featureneutralizer',\n",
       "                                                      FeatureNeutralizer())]))"
      ]
     },
     "execution_count": 10,
     "metadata": {},
     "output_type": "execute_result"
    }
   ],
   "source": [
    "full_pipe"
   ]
  },
  {
   "cell_type": "code",
   "execution_count": 11,
   "metadata": {},
   "outputs": [
    {
     "ename": "TypeError",
     "evalue": "transform() missing 1 required positional argument: 'eras'",
     "output_type": "error",
     "traceback": [
      "\u001b[0;31m---------------------------------------------------------------------------\u001b[0m",
      "\u001b[0;31mTypeError\u001b[0m                                 Traceback (most recent call last)",
      "\u001b[1;32m/home/clepelaars/numerblox/examples/end_to_end.ipynb Cell 16\u001b[0m line \u001b[0;36m1\n\u001b[0;32m----> <a href='vscode-notebook-cell://ssh-remote%2Bnumerai-training/home/clepelaars/numerblox/examples/end_to_end.ipynb#X21sdnNjb2RlLXJlbW90ZQ%3D%3D?line=0'>1</a>\u001b[0m preds \u001b[39m=\u001b[39m full_pipe\u001b[39m.\u001b[39;49mfit(X, y, numeraiensemble__eras\u001b[39m=\u001b[39;49meras)\n\u001b[1;32m      <a href='vscode-notebook-cell://ssh-remote%2Bnumerai-training/home/clepelaars/numerblox/examples/end_to_end.ipynb#X21sdnNjb2RlLXJlbW90ZQ%3D%3D?line=1'>2</a>\u001b[0m preds \u001b[39m=\u001b[39m full_pipe\u001b[39m.\u001b[39mpredict(X, eras\u001b[39m=\u001b[39meras)\n\u001b[1;32m      <a href='vscode-notebook-cell://ssh-remote%2Bnumerai-training/home/clepelaars/numerblox/examples/end_to_end.ipynb#X21sdnNjb2RlLXJlbW90ZQ%3D%3D?line=2'>3</a>\u001b[0m preds[:\u001b[39m5\u001b[39m]\n",
      "File \u001b[0;32m/opt/miniconda3/envs/classic_prod/lib/python3.9/site-packages/sklearn/base.py:1152\u001b[0m, in \u001b[0;36m_fit_context.<locals>.decorator.<locals>.wrapper\u001b[0;34m(estimator, *args, **kwargs)\u001b[0m\n\u001b[1;32m   1145\u001b[0m     estimator\u001b[39m.\u001b[39m_validate_params()\n\u001b[1;32m   1147\u001b[0m \u001b[39mwith\u001b[39;00m config_context(\n\u001b[1;32m   1148\u001b[0m     skip_parameter_validation\u001b[39m=\u001b[39m(\n\u001b[1;32m   1149\u001b[0m         prefer_skip_nested_validation \u001b[39mor\u001b[39;00m global_skip_validation\n\u001b[1;32m   1150\u001b[0m     )\n\u001b[1;32m   1151\u001b[0m ):\n\u001b[0;32m-> 1152\u001b[0m     \u001b[39mreturn\u001b[39;00m fit_method(estimator, \u001b[39m*\u001b[39;49margs, \u001b[39m*\u001b[39;49m\u001b[39m*\u001b[39;49mkwargs)\n",
      "File \u001b[0;32m/opt/miniconda3/envs/classic_prod/lib/python3.9/site-packages/sklearn/compose/_target.py:267\u001b[0m, in \u001b[0;36mTransformedTargetRegressor.fit\u001b[0;34m(self, X, y, **fit_params)\u001b[0m\n\u001b[1;32m    264\u001b[0m \u001b[39melse\u001b[39;00m:\n\u001b[1;32m    265\u001b[0m     \u001b[39mself\u001b[39m\u001b[39m.\u001b[39mregressor_ \u001b[39m=\u001b[39m clone(\u001b[39mself\u001b[39m\u001b[39m.\u001b[39mregressor)\n\u001b[0;32m--> 267\u001b[0m \u001b[39mself\u001b[39;49m\u001b[39m.\u001b[39;49mregressor_\u001b[39m.\u001b[39;49mfit(X, y_trans, \u001b[39m*\u001b[39;49m\u001b[39m*\u001b[39;49mfit_params)\n\u001b[1;32m    269\u001b[0m \u001b[39mif\u001b[39;00m \u001b[39mhasattr\u001b[39m(\u001b[39mself\u001b[39m\u001b[39m.\u001b[39mregressor_, \u001b[39m\"\u001b[39m\u001b[39mfeature_names_in_\u001b[39m\u001b[39m\"\u001b[39m):\n\u001b[1;32m    270\u001b[0m     \u001b[39mself\u001b[39m\u001b[39m.\u001b[39mfeature_names_in_ \u001b[39m=\u001b[39m \u001b[39mself\u001b[39m\u001b[39m.\u001b[39mregressor_\u001b[39m.\u001b[39mfeature_names_in_\n",
      "File \u001b[0;32m/opt/miniconda3/envs/classic_prod/lib/python3.9/site-packages/sklearn/base.py:1152\u001b[0m, in \u001b[0;36m_fit_context.<locals>.decorator.<locals>.wrapper\u001b[0;34m(estimator, *args, **kwargs)\u001b[0m\n\u001b[1;32m   1145\u001b[0m     estimator\u001b[39m.\u001b[39m_validate_params()\n\u001b[1;32m   1147\u001b[0m \u001b[39mwith\u001b[39;00m config_context(\n\u001b[1;32m   1148\u001b[0m     skip_parameter_validation\u001b[39m=\u001b[39m(\n\u001b[1;32m   1149\u001b[0m         prefer_skip_nested_validation \u001b[39mor\u001b[39;00m global_skip_validation\n\u001b[1;32m   1150\u001b[0m     )\n\u001b[1;32m   1151\u001b[0m ):\n\u001b[0;32m-> 1152\u001b[0m     \u001b[39mreturn\u001b[39;00m fit_method(estimator, \u001b[39m*\u001b[39;49margs, \u001b[39m*\u001b[39;49m\u001b[39m*\u001b[39;49mkwargs)\n",
      "File \u001b[0;32m/opt/miniconda3/envs/classic_prod/lib/python3.9/site-packages/sklearn/pipeline.py:423\u001b[0m, in \u001b[0;36mPipeline.fit\u001b[0;34m(self, X, y, **fit_params)\u001b[0m\n\u001b[1;32m    397\u001b[0m \u001b[39m\u001b[39m\u001b[39m\"\"\"Fit the model.\u001b[39;00m\n\u001b[1;32m    398\u001b[0m \n\u001b[1;32m    399\u001b[0m \u001b[39mFit all the transformers one after the other and transform the\u001b[39;00m\n\u001b[0;32m   (...)\u001b[0m\n\u001b[1;32m    420\u001b[0m \u001b[39m    Pipeline with fitted steps.\u001b[39;00m\n\u001b[1;32m    421\u001b[0m \u001b[39m\"\"\"\u001b[39;00m\n\u001b[1;32m    422\u001b[0m fit_params_steps \u001b[39m=\u001b[39m \u001b[39mself\u001b[39m\u001b[39m.\u001b[39m_check_fit_params(\u001b[39m*\u001b[39m\u001b[39m*\u001b[39mfit_params)\n\u001b[0;32m--> 423\u001b[0m Xt \u001b[39m=\u001b[39m \u001b[39mself\u001b[39;49m\u001b[39m.\u001b[39;49m_fit(X, y, \u001b[39m*\u001b[39;49m\u001b[39m*\u001b[39;49mfit_params_steps)\n\u001b[1;32m    424\u001b[0m \u001b[39mwith\u001b[39;00m _print_elapsed_time(\u001b[39m\"\u001b[39m\u001b[39mPipeline\u001b[39m\u001b[39m\"\u001b[39m, \u001b[39mself\u001b[39m\u001b[39m.\u001b[39m_log_message(\u001b[39mlen\u001b[39m(\u001b[39mself\u001b[39m\u001b[39m.\u001b[39msteps) \u001b[39m-\u001b[39m \u001b[39m1\u001b[39m)):\n\u001b[1;32m    425\u001b[0m     \u001b[39mif\u001b[39;00m \u001b[39mself\u001b[39m\u001b[39m.\u001b[39m_final_estimator \u001b[39m!=\u001b[39m \u001b[39m\"\u001b[39m\u001b[39mpassthrough\u001b[39m\u001b[39m\"\u001b[39m:\n",
      "File \u001b[0;32m/opt/miniconda3/envs/classic_prod/lib/python3.9/site-packages/sklearn/pipeline.py:377\u001b[0m, in \u001b[0;36mPipeline._fit\u001b[0;34m(self, X, y, **fit_params_steps)\u001b[0m\n\u001b[1;32m    375\u001b[0m     cloned_transformer \u001b[39m=\u001b[39m clone(transformer)\n\u001b[1;32m    376\u001b[0m \u001b[39m# Fit or load from cache the current transformer\u001b[39;00m\n\u001b[0;32m--> 377\u001b[0m X, fitted_transformer \u001b[39m=\u001b[39m fit_transform_one_cached(\n\u001b[1;32m    378\u001b[0m     cloned_transformer,\n\u001b[1;32m    379\u001b[0m     X,\n\u001b[1;32m    380\u001b[0m     y,\n\u001b[1;32m    381\u001b[0m     \u001b[39mNone\u001b[39;49;00m,\n\u001b[1;32m    382\u001b[0m     message_clsname\u001b[39m=\u001b[39;49m\u001b[39m\"\u001b[39;49m\u001b[39mPipeline\u001b[39;49m\u001b[39m\"\u001b[39;49m,\n\u001b[1;32m    383\u001b[0m     message\u001b[39m=\u001b[39;49m\u001b[39mself\u001b[39;49m\u001b[39m.\u001b[39;49m_log_message(step_idx),\n\u001b[1;32m    384\u001b[0m     \u001b[39m*\u001b[39;49m\u001b[39m*\u001b[39;49mfit_params_steps[name],\n\u001b[1;32m    385\u001b[0m )\n\u001b[1;32m    386\u001b[0m \u001b[39m# Replace the transformer of the step with the fitted\u001b[39;00m\n\u001b[1;32m    387\u001b[0m \u001b[39m# transformer. This is necessary when loading the transformer\u001b[39;00m\n\u001b[1;32m    388\u001b[0m \u001b[39m# from the cache.\u001b[39;00m\n\u001b[1;32m    389\u001b[0m \u001b[39mself\u001b[39m\u001b[39m.\u001b[39msteps[step_idx] \u001b[39m=\u001b[39m (name, fitted_transformer)\n",
      "File \u001b[0;32m/opt/miniconda3/envs/classic_prod/lib/python3.9/site-packages/joblib/memory.py:353\u001b[0m, in \u001b[0;36mNotMemorizedFunc.__call__\u001b[0;34m(self, *args, **kwargs)\u001b[0m\n\u001b[1;32m    352\u001b[0m \u001b[39mdef\u001b[39;00m \u001b[39m__call__\u001b[39m(\u001b[39mself\u001b[39m, \u001b[39m*\u001b[39margs, \u001b[39m*\u001b[39m\u001b[39m*\u001b[39mkwargs):\n\u001b[0;32m--> 353\u001b[0m     \u001b[39mreturn\u001b[39;00m \u001b[39mself\u001b[39;49m\u001b[39m.\u001b[39;49mfunc(\u001b[39m*\u001b[39;49margs, \u001b[39m*\u001b[39;49m\u001b[39m*\u001b[39;49mkwargs)\n",
      "File \u001b[0;32m/opt/miniconda3/envs/classic_prod/lib/python3.9/site-packages/sklearn/pipeline.py:957\u001b[0m, in \u001b[0;36m_fit_transform_one\u001b[0;34m(transformer, X, y, weight, message_clsname, message, **fit_params)\u001b[0m\n\u001b[1;32m    955\u001b[0m \u001b[39mwith\u001b[39;00m _print_elapsed_time(message_clsname, message):\n\u001b[1;32m    956\u001b[0m     \u001b[39mif\u001b[39;00m \u001b[39mhasattr\u001b[39m(transformer, \u001b[39m\"\u001b[39m\u001b[39mfit_transform\u001b[39m\u001b[39m\"\u001b[39m):\n\u001b[0;32m--> 957\u001b[0m         res \u001b[39m=\u001b[39m transformer\u001b[39m.\u001b[39;49mfit_transform(X, y, \u001b[39m*\u001b[39;49m\u001b[39m*\u001b[39;49mfit_params)\n\u001b[1;32m    958\u001b[0m     \u001b[39melse\u001b[39;00m:\n\u001b[1;32m    959\u001b[0m         res \u001b[39m=\u001b[39m transformer\u001b[39m.\u001b[39mfit(X, y, \u001b[39m*\u001b[39m\u001b[39m*\u001b[39mfit_params)\u001b[39m.\u001b[39mtransform(X)\n",
      "File \u001b[0;32m/opt/miniconda3/envs/classic_prod/lib/python3.9/site-packages/sklearn/utils/_set_output.py:157\u001b[0m, in \u001b[0;36m_wrap_method_output.<locals>.wrapped\u001b[0;34m(self, X, *args, **kwargs)\u001b[0m\n\u001b[1;32m    155\u001b[0m \u001b[39m@wraps\u001b[39m(f)\n\u001b[1;32m    156\u001b[0m \u001b[39mdef\u001b[39;00m \u001b[39mwrapped\u001b[39m(\u001b[39mself\u001b[39m, X, \u001b[39m*\u001b[39margs, \u001b[39m*\u001b[39m\u001b[39m*\u001b[39mkwargs):\n\u001b[0;32m--> 157\u001b[0m     data_to_wrap \u001b[39m=\u001b[39m f(\u001b[39mself\u001b[39;49m, X, \u001b[39m*\u001b[39;49margs, \u001b[39m*\u001b[39;49m\u001b[39m*\u001b[39;49mkwargs)\n\u001b[1;32m    158\u001b[0m     \u001b[39mif\u001b[39;00m \u001b[39misinstance\u001b[39m(data_to_wrap, \u001b[39mtuple\u001b[39m):\n\u001b[1;32m    159\u001b[0m         \u001b[39m# only wrap the first output for cross decomposition\u001b[39;00m\n\u001b[1;32m    160\u001b[0m         return_tuple \u001b[39m=\u001b[39m (\n\u001b[1;32m    161\u001b[0m             _wrap_data_with_container(method, data_to_wrap[\u001b[39m0\u001b[39m], X, \u001b[39mself\u001b[39m),\n\u001b[1;32m    162\u001b[0m             \u001b[39m*\u001b[39mdata_to_wrap[\u001b[39m1\u001b[39m:],\n\u001b[1;32m    163\u001b[0m         )\n",
      "File \u001b[0;32m/opt/miniconda3/envs/classic_prod/lib/python3.9/site-packages/sklearn/base.py:919\u001b[0m, in \u001b[0;36mTransformerMixin.fit_transform\u001b[0;34m(self, X, y, **fit_params)\u001b[0m\n\u001b[1;32m    916\u001b[0m     \u001b[39mreturn\u001b[39;00m \u001b[39mself\u001b[39m\u001b[39m.\u001b[39mfit(X, \u001b[39m*\u001b[39m\u001b[39m*\u001b[39mfit_params)\u001b[39m.\u001b[39mtransform(X)\n\u001b[1;32m    917\u001b[0m \u001b[39melse\u001b[39;00m:\n\u001b[1;32m    918\u001b[0m     \u001b[39m# fit method of arity 2 (supervised transformation)\u001b[39;00m\n\u001b[0;32m--> 919\u001b[0m     \u001b[39mreturn\u001b[39;00m \u001b[39mself\u001b[39;49m\u001b[39m.\u001b[39;49mfit(X, y, \u001b[39m*\u001b[39;49m\u001b[39m*\u001b[39;49mfit_params)\u001b[39m.\u001b[39;49mtransform(X)\n",
      "File \u001b[0;32m/opt/miniconda3/envs/classic_prod/lib/python3.9/site-packages/sklearn/utils/_set_output.py:157\u001b[0m, in \u001b[0;36m_wrap_method_output.<locals>.wrapped\u001b[0;34m(self, X, *args, **kwargs)\u001b[0m\n\u001b[1;32m    155\u001b[0m \u001b[39m@wraps\u001b[39m(f)\n\u001b[1;32m    156\u001b[0m \u001b[39mdef\u001b[39;00m \u001b[39mwrapped\u001b[39m(\u001b[39mself\u001b[39m, X, \u001b[39m*\u001b[39margs, \u001b[39m*\u001b[39m\u001b[39m*\u001b[39mkwargs):\n\u001b[0;32m--> 157\u001b[0m     data_to_wrap \u001b[39m=\u001b[39m f(\u001b[39mself\u001b[39;49m, X, \u001b[39m*\u001b[39;49margs, \u001b[39m*\u001b[39;49m\u001b[39m*\u001b[39;49mkwargs)\n\u001b[1;32m    158\u001b[0m     \u001b[39mif\u001b[39;00m \u001b[39misinstance\u001b[39m(data_to_wrap, \u001b[39mtuple\u001b[39m):\n\u001b[1;32m    159\u001b[0m         \u001b[39m# only wrap the first output for cross decomposition\u001b[39;00m\n\u001b[1;32m    160\u001b[0m         return_tuple \u001b[39m=\u001b[39m (\n\u001b[1;32m    161\u001b[0m             _wrap_data_with_container(method, data_to_wrap[\u001b[39m0\u001b[39m], X, \u001b[39mself\u001b[39m),\n\u001b[1;32m    162\u001b[0m             \u001b[39m*\u001b[39mdata_to_wrap[\u001b[39m1\u001b[39m:],\n\u001b[1;32m    163\u001b[0m         )\n",
      "\u001b[0;31mTypeError\u001b[0m: transform() missing 1 required positional argument: 'eras'"
     ]
    }
   ],
   "source": [
    "preds = full_pipe.fit(X, y, numeraiensemble__eras=eras)\n",
    "preds = full_pipe.predict(X, eras=eras)\n",
    "preds[:5]"
   ]
  }
 ],
 "metadata": {
  "kernelspec": {
   "display_name": "classic_prod310",
   "language": "python",
   "name": "python3"
  },
  "language_info": {
   "codemirror_mode": {
    "name": "ipython",
    "version": 3
   },
   "file_extension": ".py",
   "mimetype": "text/x-python",
   "name": "python",
   "nbconvert_exporter": "python",
   "pygments_lexer": "ipython3",
   "version": "3.9.12"
  },
  "orig_nbformat": 4
 },
 "nbformat": 4,
 "nbformat_minor": 2
}
